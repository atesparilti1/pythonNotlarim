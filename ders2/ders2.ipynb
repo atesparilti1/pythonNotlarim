{
 "cells": [
  {
   "cell_type": "code",
   "execution_count": 2,
   "id": "initial_id",
   "metadata": {
    "collapsed": true,
    "ExecuteTime": {
     "end_time": "2023-11-12T12:49:34.721019900Z",
     "start_time": "2023-11-12T12:49:34.714957Z"
    }
   },
   "outputs": [
    {
     "data": {
      "text/plain": "False"
     },
     "execution_count": 2,
     "metadata": {},
     "output_type": "execute_result"
    }
   ],
   "source": [
    "x=5\n",
    "y=6\n",
    "x>5.1"
   ]
  },
  {
   "cell_type": "code",
   "execution_count": 3,
   "outputs": [
    {
     "data": {
      "text/plain": "False"
     },
     "execution_count": 3,
     "metadata": {},
     "output_type": "execute_result"
    }
   ],
   "source": [
    "x<5"
   ],
   "metadata": {
    "collapsed": false,
    "ExecuteTime": {
     "end_time": "2023-11-12T12:49:44.783005900Z",
     "start_time": "2023-11-12T12:49:44.770640400Z"
    }
   },
   "id": "8f0dc9cfe436ccc4"
  },
  {
   "cell_type": "code",
   "execution_count": 4,
   "outputs": [
    {
     "data": {
      "text/plain": "True"
     },
     "execution_count": 4,
     "metadata": {},
     "output_type": "execute_result"
    }
   ],
   "source": [
    "x<y"
   ],
   "metadata": {
    "collapsed": false,
    "ExecuteTime": {
     "end_time": "2023-11-12T12:49:49.528820600Z",
     "start_time": "2023-11-12T12:49:49.512278200Z"
    }
   },
   "id": "ce8a1ad4f41f067d"
  },
  {
   "cell_type": "code",
   "execution_count": 5,
   "outputs": [
    {
     "data": {
      "text/plain": "5"
     },
     "execution_count": 5,
     "metadata": {},
     "output_type": "execute_result"
    }
   ],
   "source": [
    "x"
   ],
   "metadata": {
    "collapsed": false,
    "ExecuteTime": {
     "end_time": "2023-11-12T12:49:58.903850700Z",
     "start_time": "2023-11-12T12:49:58.890013300Z"
    }
   },
   "id": "6cf70768de1ef634"
  },
  {
   "cell_type": "code",
   "execution_count": 6,
   "outputs": [
    {
     "data": {
      "text/plain": "6"
     },
     "execution_count": 6,
     "metadata": {},
     "output_type": "execute_result"
    }
   ],
   "source": [
    "y"
   ],
   "metadata": {
    "collapsed": false,
    "ExecuteTime": {
     "end_time": "2023-11-12T12:50:00.418348300Z",
     "start_time": "2023-11-12T12:50:00.404921200Z"
    }
   },
   "id": "be6c3b5a188f4ed"
  },
  {
   "cell_type": "code",
   "execution_count": 7,
   "outputs": [
    {
     "data": {
      "text/plain": "False"
     },
     "execution_count": 7,
     "metadata": {},
     "output_type": "execute_result"
    }
   ],
   "source": [
    "x == y"
   ],
   "metadata": {
    "collapsed": false,
    "ExecuteTime": {
     "end_time": "2023-11-12T12:50:08.660821900Z",
     "start_time": "2023-11-12T12:50:08.646449600Z"
    }
   },
   "id": "91341378275a832d"
  },
  {
   "cell_type": "code",
   "execution_count": 8,
   "outputs": [
    {
     "data": {
      "text/plain": "True"
     },
     "execution_count": 8,
     "metadata": {},
     "output_type": "execute_result"
    }
   ],
   "source": [
    "y != x"
   ],
   "metadata": {
    "collapsed": false,
    "ExecuteTime": {
     "end_time": "2023-11-12T12:50:14.822942600Z",
     "start_time": "2023-11-12T12:50:14.784785300Z"
    }
   },
   "id": "81e6f0099c40aa5c"
  },
  {
   "cell_type": "code",
   "execution_count": 9,
   "outputs": [
    {
     "data": {
      "text/plain": "True"
     },
     "execution_count": 9,
     "metadata": {},
     "output_type": "execute_result"
    }
   ],
   "source": [
    "2>1 and 3>2"
   ],
   "metadata": {
    "collapsed": false,
    "ExecuteTime": {
     "end_time": "2023-11-12T12:50:29.544502300Z",
     "start_time": "2023-11-12T12:50:29.537520700Z"
    }
   },
   "id": "96a0a4e743b22601"
  },
  {
   "cell_type": "code",
   "execution_count": 10,
   "outputs": [
    {
     "data": {
      "text/plain": "False"
     },
     "execution_count": 10,
     "metadata": {},
     "output_type": "execute_result"
    }
   ],
   "source": [
    "2>1 and 3<2"
   ],
   "metadata": {
    "collapsed": false,
    "ExecuteTime": {
     "end_time": "2023-11-12T12:50:42.376806500Z",
     "start_time": "2023-11-12T12:50:42.370018600Z"
    }
   },
   "id": "abe0c4abec713c9e"
  },
  {
   "cell_type": "code",
   "execution_count": 11,
   "outputs": [
    {
     "data": {
      "text/plain": "False"
     },
     "execution_count": 11,
     "metadata": {},
     "output_type": "execute_result"
    }
   ],
   "source": [
    "2<1 and 3<2"
   ],
   "metadata": {
    "collapsed": false,
    "ExecuteTime": {
     "end_time": "2023-11-12T12:50:53.515771600Z",
     "start_time": "2023-11-12T12:50:53.507142400Z"
    }
   },
   "id": "e16e70339349830b"
  },
  {
   "cell_type": "code",
   "execution_count": 12,
   "outputs": [
    {
     "data": {
      "text/plain": "True"
     },
     "execution_count": 12,
     "metadata": {},
     "output_type": "execute_result"
    }
   ],
   "source": [
    "not x == y"
   ],
   "metadata": {
    "collapsed": false,
    "ExecuteTime": {
     "end_time": "2023-11-12T12:51:04.430059700Z",
     "start_time": "2023-11-12T12:51:04.417991700Z"
    }
   },
   "id": "f4216ea5a72ef7bf"
  },
  {
   "cell_type": "code",
   "execution_count": 17,
   "outputs": [
    {
     "name": "stdout",
     "output_type": "stream",
     "text": [
      "Yanlış\n"
     ]
    }
   ],
   "source": [
    "if (x > y):\n",
    "    print(\"Doğru\")\n",
    "    print(123)\n",
    "else:\n",
    "    print(\"Yanlış\")\n"
   ],
   "metadata": {
    "collapsed": false,
    "ExecuteTime": {
     "end_time": "2023-11-12T12:52:47.088714100Z",
     "start_time": "2023-11-12T12:52:47.084204500Z"
    }
   },
   "id": "fde8a9f23fa1eb75"
  },
  {
   "cell_type": "code",
   "execution_count": 22,
   "outputs": [
    {
     "name": "stdout",
     "output_type": "stream",
     "text": [
      "3\n",
      "3\n",
      "x y ile eşit\n"
     ]
    }
   ],
   "source": [
    "a=3\n",
    "b=3\n",
    "x=a\n",
    "y=b\n",
    "print(x)\n",
    "print(y)\n",
    "if x > y:\n",
    "    print(\"x, y den büyük\")\n",
    "elif x==y:\n",
    "    print(\"x y ile eşit\")\n",
    "else:\n",
    "    print(\"y, x ten büyük\")"
   ],
   "metadata": {
    "collapsed": false,
    "ExecuteTime": {
     "end_time": "2023-11-12T12:56:12.323376400Z",
     "start_time": "2023-11-12T12:56:12.315864200Z"
    }
   },
   "id": "e23bd2ea3189ff1"
  },
  {
   "cell_type": "code",
   "execution_count": 27,
   "outputs": [
    {
     "name": "stdout",
     "output_type": "stream",
     "text": [
      "true\n"
     ]
    }
   ],
   "source": [
    "mySuperhero= input()\n",
    "if(mySuperhero== \"Aquaman\"):\n",
    "    print(\"true\")"
   ],
   "metadata": {
    "collapsed": false,
    "ExecuteTime": {
     "end_time": "2023-11-12T12:58:17.560387500Z",
     "start_time": "2023-11-12T12:58:14.842487800Z"
    }
   },
   "id": "6ddf993577693ccc"
  },
  {
   "cell_type": "code",
   "execution_count": 31,
   "outputs": [
    {
     "name": "stdout",
     "output_type": "stream",
     "text": [
      "False\n"
     ]
    }
   ],
   "source": [
    "c=40\n",
    "d=30\n",
    "e=35\n",
    "if c<d or e<d:\n",
    "    print(\"True\")\n",
    "elif d>c and e<c:\n",
    "    print(\"Impossible\")\n",
    "else:\n",
    "    print(\"False\")"
   ],
   "metadata": {
    "collapsed": false,
    "ExecuteTime": {
     "end_time": "2023-11-12T13:01:39.903042400Z",
     "start_time": "2023-11-12T13:01:39.894528800Z"
    }
   },
   "id": "e4df13cf7b675294"
  },
  {
   "cell_type": "code",
   "execution_count": 33,
   "outputs": [
    {
     "name": "stdout",
     "output_type": "stream",
     "text": [
      "True\n"
     ]
    }
   ],
   "source": [
    "str=\"Hello World\"\n",
    "if \"Hello\" in str:\n",
    "    print(\"True\")"
   ],
   "metadata": {
    "collapsed": false,
    "ExecuteTime": {
     "end_time": "2023-11-12T13:03:02.432953700Z",
     "start_time": "2023-11-12T13:03:02.428950100Z"
    }
   },
   "id": "b6ea425d3535aef3"
  },
  {
   "cell_type": "code",
   "execution_count": 34,
   "outputs": [
    {
     "name": "stdout",
     "output_type": "stream",
     "text": [
      "False\n"
     ]
    }
   ],
   "source": [
    "my_dict={\"k1\": 300,\"k2\" : 1000}\n",
    "if 200 in my_dict:\n",
    "    print(\"True\")\n",
    "else:\n",
    "    print(\"False\")"
   ],
   "metadata": {
    "collapsed": false,
    "ExecuteTime": {
     "end_time": "2023-11-12T13:04:32.561580400Z",
     "start_time": "2023-11-12T13:04:32.546566400Z"
    }
   },
   "id": "9e369d7f041f7ac7"
  },
  {
   "cell_type": "code",
   "execution_count": 36,
   "outputs": [
    {
     "name": "stdout",
     "output_type": "stream",
     "text": [
      "True\n"
     ]
    }
   ],
   "source": [
    "abc=False\n",
    "\n",
    "if not abc:\n",
    "    print(\"True\")"
   ],
   "metadata": {
    "collapsed": false,
    "ExecuteTime": {
     "end_time": "2023-11-12T13:05:16.586404400Z",
     "start_time": "2023-11-12T13:05:16.578892200Z"
    }
   },
   "id": "b97fe1794a9fe3ae"
  },
  {
   "cell_type": "code",
   "execution_count": 86,
   "outputs": [
    {
     "name": "stdout",
     "output_type": "stream",
     "text": [
      "1\n",
      "2\n",
      "3\n",
      "4\n",
      "5\n"
     ]
    }
   ],
   "source": [
    "list5= [1, 2, 3, 4, 5]\n",
    "for number in list5:\n",
    "    print(number)"
   ],
   "metadata": {
    "collapsed": false,
    "ExecuteTime": {
     "end_time": "2023-11-12T13:56:06.129487800Z",
     "start_time": "2023-11-12T13:56:06.125484Z"
    }
   },
   "id": "e8bb3f0d7425aeb0"
  },
  {
   "cell_type": "code",
   "execution_count": 87,
   "outputs": [
    {
     "name": "stdout",
     "output_type": "stream",
     "text": [
      "2\n",
      "4\n"
     ]
    }
   ],
   "source": [
    "for number in list5:\n",
    "    if number%2==0:\n",
    "        print(number)"
   ],
   "metadata": {
    "collapsed": false,
    "ExecuteTime": {
     "end_time": "2023-11-12T13:56:09.536877800Z",
     "start_time": "2023-11-12T13:56:09.533878Z"
    }
   },
   "id": "47c0365752027ac2"
  },
  {
   "cell_type": "code",
   "execution_count": 88,
   "outputs": [
    {
     "name": "stdout",
     "output_type": "stream",
     "text": [
      "A\n",
      "e\n",
      " \n",
      "a\n",
      "ı\n",
      "ı\n"
     ]
    }
   ],
   "source": [
    "string= \"Ateş Parıltı\"\n",
    "for letter in string:\n",
    "    if string.index(letter)%2==0:\n",
    "        print(letter)"
   ],
   "metadata": {
    "collapsed": false,
    "ExecuteTime": {
     "end_time": "2023-11-12T13:56:10.404857200Z",
     "start_time": "2023-11-12T13:56:10.394845300Z"
    }
   },
   "id": "b6595bb6ea721df"
  },
  {
   "cell_type": "code",
   "execution_count": 89,
   "outputs": [
    {
     "name": "stdout",
     "output_type": "stream",
     "text": [
      "5\n",
      "10\n",
      "15\n"
     ]
    }
   ],
   "source": [
    "tupl=(1,2,3)\n",
    "for item in tupl:\n",
    "    print(item*5)"
   ],
   "metadata": {
    "collapsed": false,
    "ExecuteTime": {
     "end_time": "2023-11-12T13:56:11.596589900Z",
     "start_time": "2023-11-12T13:56:11.588582500Z"
    }
   },
   "id": "460a4ff53b11a588"
  },
  {
   "cell_type": "code",
   "execution_count": 41,
   "outputs": [
    {
     "name": "stdout",
     "output_type": "stream",
     "text": [
      "('a', '1')\n",
      "('b', '2')\n",
      "('c', '3')\n"
     ]
    }
   ],
   "source": [
    "alist=[(\"a\",\"1\"),(\"b\",\"2\"),(\"c\",\"3\")]\n",
    "for element in alist:\n",
    "    print(element)"
   ],
   "metadata": {
    "collapsed": false,
    "ExecuteTime": {
     "end_time": "2023-11-12T13:13:48.656268300Z",
     "start_time": "2023-11-12T13:13:48.640252500Z"
    }
   },
   "id": "c659de15c07d4d7c"
  },
  {
   "cell_type": "code",
   "execution_count": 42,
   "outputs": [
    {
     "name": "stdout",
     "output_type": "stream",
     "text": [
      "a\n",
      "1\n",
      "b\n",
      "2\n",
      "c\n",
      "3\n"
     ]
    }
   ],
   "source": [
    "for (x,y) in alist:\n",
    "    print(x)\n",
    "    print(y)"
   ],
   "metadata": {
    "collapsed": false,
    "ExecuteTime": {
     "end_time": "2023-11-12T13:14:33.416908700Z",
     "start_time": "2023-11-12T13:14:33.402387100Z"
    }
   },
   "id": "9ffaacd81cb9dce"
  },
  {
   "cell_type": "code",
   "execution_count": 44,
   "outputs": [
    {
     "name": "stdout",
     "output_type": "stream",
     "text": [
      "10\n",
      "20\n",
      "30\n"
     ]
    }
   ],
   "source": [
    "my_dict1={\"key1\": 10,\"key2\":20,\"key3\":30}\n",
    "for (key,value) in my_dict1.items():\n",
    "    print(value)"
   ],
   "metadata": {
    "collapsed": false,
    "ExecuteTime": {
     "end_time": "2023-11-12T13:16:57.158090Z",
     "start_time": "2023-11-12T13:16:57.148956800Z"
    }
   },
   "id": "540dc9933e7d533c"
  },
  {
   "cell_type": "code",
   "execution_count": 57,
   "outputs": [
    {
     "name": "stdout",
     "output_type": "stream",
     "text": [
      "12\n",
      "24\n"
     ]
    }
   ],
   "source": [
    "list2=[1,2,3,4,5,6,7]\n",
    "for num in list2:\n",
    "    # print(num*12)\n",
    "    if num==3:\n",
    "        break\n",
    "    print(num*12)"
   ],
   "metadata": {
    "collapsed": false,
    "ExecuteTime": {
     "end_time": "2023-11-12T13:23:53.498230300Z",
     "start_time": "2023-11-12T13:23:53.488717200Z"
    }
   },
   "id": "6da807831e29e926"
  },
  {
   "cell_type": "code",
   "execution_count": 55,
   "outputs": [
    {
     "name": "stdout",
     "output_type": "stream",
     "text": [
      "100\n",
      "300\n",
      "400\n",
      "500\n",
      "600\n",
      "700\n"
     ]
    }
   ],
   "source": [
    "for num in list2:\n",
    "    if num==2:\n",
    "        continue\n",
    "    print(num*100)"
   ],
   "metadata": {
    "collapsed": false,
    "ExecuteTime": {
     "end_time": "2023-11-12T13:23:30.308877400Z",
     "start_time": "2023-11-12T13:23:30.299323700Z"
    }
   },
   "id": "a809ff38e6558364"
  },
  {
   "cell_type": "code",
   "execution_count": 58,
   "outputs": [],
   "source": [
    "for num in list2:\n",
    "    pass"
   ],
   "metadata": {
    "collapsed": false,
    "ExecuteTime": {
     "end_time": "2023-11-12T13:25:30.157378500Z",
     "start_time": "2023-11-12T13:25:30.140858600Z"
    }
   },
   "id": "6b2beead496d82a6"
  },
  {
   "cell_type": "code",
   "execution_count": 60,
   "outputs": [
    {
     "name": "stdout",
     "output_type": "stream",
     "text": [
      "Ateş\n",
      "Ateş\n",
      "Ateş\n",
      "Ateş\n"
     ]
    }
   ],
   "source": [
    "f=0\n",
    "while f<4:\n",
    "    print(\"Ateş\")\n",
    "    f=f+1"
   ],
   "metadata": {
    "collapsed": false,
    "ExecuteTime": {
     "end_time": "2023-11-12T13:26:36.345597900Z",
     "start_time": "2023-11-12T13:26:36.334775100Z"
    }
   },
   "id": "a1de3a23f49894b3"
  },
  {
   "cell_type": "code",
   "execution_count": 61,
   "outputs": [
    {
     "data": {
      "text/plain": "7"
     },
     "execution_count": 61,
     "metadata": {},
     "output_type": "execute_result"
    }
   ],
   "source": [
    "list2.pop()"
   ],
   "metadata": {
    "collapsed": false,
    "ExecuteTime": {
     "end_time": "2023-11-12T13:26:56.208642800Z",
     "start_time": "2023-11-12T13:26:56.191665600Z"
    }
   },
   "id": "a138a16251432c57"
  },
  {
   "cell_type": "code",
   "execution_count": 62,
   "outputs": [
    {
     "data": {
      "text/plain": "[1, 2, 3, 4, 5, 6]"
     },
     "execution_count": 62,
     "metadata": {},
     "output_type": "execute_result"
    }
   ],
   "source": [
    "list2"
   ],
   "metadata": {
    "collapsed": false,
    "ExecuteTime": {
     "end_time": "2023-11-12T13:27:02.261451900Z",
     "start_time": "2023-11-12T13:27:02.243434500Z"
    }
   },
   "id": "dd85628c0ac9269a"
  },
  {
   "cell_type": "code",
   "execution_count": 63,
   "outputs": [],
   "source": [
    "list2.append(13)"
   ],
   "metadata": {
    "collapsed": false,
    "ExecuteTime": {
     "end_time": "2023-11-12T13:27:24.118691200Z",
     "start_time": "2023-11-12T13:27:24.094673Z"
    }
   },
   "id": "c237893fb0249298"
  },
  {
   "cell_type": "code",
   "execution_count": 64,
   "outputs": [
    {
     "data": {
      "text/plain": "[1, 2, 3, 4, 5, 6, 13]"
     },
     "execution_count": 64,
     "metadata": {},
     "output_type": "execute_result"
    }
   ],
   "source": [
    "\n",
    "list2"
   ],
   "metadata": {
    "collapsed": false,
    "ExecuteTime": {
     "end_time": "2023-11-12T13:27:27.961275700Z",
     "start_time": "2023-11-12T13:27:27.942198Z"
    }
   },
   "id": "6092a2bc5eb98a7"
  },
  {
   "cell_type": "code",
   "execution_count": 66,
   "outputs": [
    {
     "data": {
      "text/plain": "[1, 2, 3]"
     },
     "execution_count": 66,
     "metadata": {},
     "output_type": "execute_result"
    }
   ],
   "source": [
    "while 4 in list2:\n",
    "    print(\"4 is in my list\")\n",
    "    list2.pop()\n",
    "list2\n"
   ],
   "metadata": {
    "collapsed": false,
    "ExecuteTime": {
     "end_time": "2023-11-12T13:29:37.199755600Z",
     "start_time": "2023-11-12T13:29:37.191239200Z"
    }
   },
   "id": "5f5145da8b1d91c8"
  },
  {
   "cell_type": "code",
   "execution_count": 68,
   "outputs": [
    {
     "name": "stdout",
     "output_type": "stream",
     "text": [
      "value p p p: 0\n",
      "value p p p: 1\n",
      "value p p p: 2\n",
      "value p p p: 3\n",
      "value p p p: 4\n"
     ]
    }
   ],
   "source": [
    "p=0\n",
    "while p < 5:\n",
    "    #print(\"value p: \" + str(p))\n",
    "    print(f\"value p p p: {p}\")\n",
    "    p += 1"
   ],
   "metadata": {
    "collapsed": false,
    "ExecuteTime": {
     "end_time": "2023-11-12T13:30:55.768339800Z",
     "start_time": "2023-11-12T13:30:55.758822800Z"
    }
   },
   "id": "35752781769d1167"
  },
  {
   "cell_type": "code",
   "execution_count": 92,
   "outputs": [
    {
     "data": {
      "text/plain": "range(0, 20)"
     },
     "execution_count": 92,
     "metadata": {},
     "output_type": "execute_result"
    }
   ],
   "source": [
    "range(20)"
   ],
   "metadata": {
    "collapsed": false,
    "ExecuteTime": {
     "end_time": "2023-11-12T13:56:34.312279300Z",
     "start_time": "2023-11-12T13:56:34.304271Z"
    }
   },
   "id": "6528dd9a143c3b0d"
  },
  {
   "cell_type": "code",
   "execution_count": 93,
   "outputs": [
    {
     "ename": "TypeError",
     "evalue": "'list' object is not callable",
     "output_type": "error",
     "traceback": [
      "\u001B[1;31m---------------------------------------------------------------------------\u001B[0m",
      "\u001B[1;31mTypeError\u001B[0m                                 Traceback (most recent call last)",
      "Cell \u001B[1;32mIn[93], line 1\u001B[0m\n\u001B[1;32m----> 1\u001B[0m \u001B[38;5;28;43mlist\u001B[39;49m\u001B[43m(\u001B[49m\u001B[38;5;28;43mrange\u001B[39;49m\u001B[43m(\u001B[49m\u001B[38;5;241;43m20\u001B[39;49m\u001B[43m)\u001B[49m\u001B[43m)\u001B[49m\n",
      "\u001B[1;31mTypeError\u001B[0m: 'list' object is not callable"
     ]
    }
   ],
   "source": [
    "list(range(20))"
   ],
   "metadata": {
    "collapsed": false,
    "ExecuteTime": {
     "end_time": "2023-11-12T13:56:34.751093800Z",
     "start_time": "2023-11-12T13:56:34.745088Z"
    }
   },
   "id": "612d99782fa8807a"
  },
  {
   "cell_type": "code",
   "execution_count": 90,
   "outputs": [],
   "source": [],
   "metadata": {
    "collapsed": false,
    "ExecuteTime": {
     "end_time": "2023-11-12T13:56:19.692040Z",
     "start_time": "2023-11-12T13:56:19.669024100Z"
    }
   },
   "id": "54441abd3474ad04"
  },
  {
   "cell_type": "code",
   "execution_count": null,
   "outputs": [],
   "source": [],
   "metadata": {
    "collapsed": false
   },
   "id": "cadc44ebb3662c1f"
  }
 ],
 "metadata": {
  "kernelspec": {
   "display_name": "Python 3",
   "language": "python",
   "name": "python3"
  },
  "language_info": {
   "codemirror_mode": {
    "name": "ipython",
    "version": 2
   },
   "file_extension": ".py",
   "mimetype": "text/x-python",
   "name": "python",
   "nbconvert_exporter": "python",
   "pygments_lexer": "ipython2",
   "version": "2.7.6"
  }
 },
 "nbformat": 4,
 "nbformat_minor": 5
}
