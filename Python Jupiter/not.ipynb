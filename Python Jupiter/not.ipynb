{
 "cells": [
  {
   "cell_type": "code",
   "execution_count": 3,
   "id": "initial_id",
   "metadata": {
    "collapsed": true,
    "ExecuteTime": {
     "end_time": "2023-11-17T18:29:46.464766600Z",
     "start_time": "2023-11-17T18:29:46.456249900Z"
    }
   },
   "outputs": [],
   "source": [
    "#variable \n"
   ]
  },
  {
   "cell_type": "code",
   "execution_count": 4,
   "outputs": [
    {
     "data": {
      "text/plain": "11"
     },
     "execution_count": 4,
     "metadata": {},
     "output_type": "execute_result"
    }
   ],
   "source": [
    "5+6"
   ],
   "metadata": {
    "collapsed": false,
    "ExecuteTime": {
     "end_time": "2023-11-17T18:29:51.101810400Z",
     "start_time": "2023-11-17T18:29:51.082793100Z"
    }
   },
   "id": "3e13736257cb37a7"
  },
  {
   "cell_type": "code",
   "execution_count": 5,
   "outputs": [
    {
     "data": {
      "text/plain": "33.5"
     },
     "execution_count": 5,
     "metadata": {},
     "output_type": "execute_result"
    }
   ],
   "source": [
    "12*3-5/2"
   ],
   "metadata": {
    "collapsed": false,
    "ExecuteTime": {
     "end_time": "2023-11-17T18:30:00.217505800Z",
     "start_time": "2023-11-17T18:30:00.204802Z"
    }
   },
   "id": "47fff1ef7f8149b7"
  },
  {
   "cell_type": "code",
   "execution_count": 6,
   "outputs": [
    {
     "name": "stdout",
     "output_type": "stream",
     "text": [
      "24\n"
     ]
    }
   ],
   "source": [
    "kelime = \"12\"\n",
    "sayi = 12\n",
    "print(int(kelime)+sayi)"
   ],
   "metadata": {
    "collapsed": false,
    "ExecuteTime": {
     "end_time": "2023-11-17T18:30:50.312586500Z",
     "start_time": "2023-11-17T18:30:50.294637800Z"
    }
   },
   "id": "e28bfadf2d8dc305"
  },
  {
   "cell_type": "code",
   "execution_count": 7,
   "outputs": [
    {
     "data": {
      "text/plain": "int"
     },
     "execution_count": 7,
     "metadata": {},
     "output_type": "execute_result"
    }
   ],
   "source": [
    "a=3\n",
    "type(a)"
   ],
   "metadata": {
    "collapsed": false,
    "ExecuteTime": {
     "end_time": "2023-11-17T18:31:18.980532300Z",
     "start_time": "2023-11-17T18:31:18.964185700Z"
    }
   },
   "id": "8ea00f9a4cafea81"
  },
  {
   "cell_type": "code",
   "execution_count": 8,
   "outputs": [],
   "source": [
    "#stringler\n"
   ],
   "metadata": {
    "collapsed": false,
    "ExecuteTime": {
     "end_time": "2023-11-17T18:31:38.908602300Z",
     "start_time": "2023-11-17T18:31:38.897085700Z"
    }
   },
   "id": "4d547122d55316d3"
  },
  {
   "cell_type": "code",
   "execution_count": 12,
   "outputs": [
    {
     "data": {
      "text/plain": "13"
     },
     "execution_count": 12,
     "metadata": {},
     "output_type": "execute_result"
    }
   ],
   "source": [
    "abo= \"kelime sayısı\"\n",
    "len(abo)"
   ],
   "metadata": {
    "collapsed": false,
    "ExecuteTime": {
     "end_time": "2023-11-17T18:32:33.225175700Z",
     "start_time": "2023-11-17T18:32:33.216636200Z"
    }
   },
   "id": "abb999e53c937135"
  },
  {
   "cell_type": "code",
   "execution_count": 14,
   "outputs": [
    {
     "name": "stdout",
     "output_type": "stream",
     "text": [
      "ısıyas emilek\n"
     ]
    }
   ],
   "source": [
    "#ters yazdırma\n",
    "print(abo[::-1])"
   ],
   "metadata": {
    "collapsed": false,
    "ExecuteTime": {
     "end_time": "2023-11-17T18:33:11.945642200Z",
     "start_time": "2023-11-17T18:33:11.936145500Z"
    }
   },
   "id": "4f12644e4466765c"
  },
  {
   "cell_type": "code",
   "execution_count": 16,
   "outputs": [],
   "source": [
    "#stringler zero based çalışır\n"
   ],
   "metadata": {
    "collapsed": false,
    "ExecuteTime": {
     "end_time": "2023-11-17T18:34:05.757633700Z",
     "start_time": "2023-11-17T18:34:05.743688100Z"
    }
   },
   "id": "5f6c73b7e4cca67b"
  },
  {
   "cell_type": "code",
   "execution_count": 17,
   "outputs": [
    {
     "data": {
      "text/plain": "'Ates'"
     },
     "execution_count": 17,
     "metadata": {},
     "output_type": "execute_result"
    }
   ],
   "source": [
    "isim=(\"ates\")\n",
    "isim.capitalize()"
   ],
   "metadata": {
    "collapsed": false,
    "ExecuteTime": {
     "end_time": "2023-11-17T18:34:23.764406300Z",
     "start_time": "2023-11-17T18:34:23.751470600Z"
    }
   },
   "id": "b9eb3b9ff9d0a5d"
  },
  {
   "cell_type": "code",
   "execution_count": 18,
   "outputs": [
    {
     "data": {
      "text/plain": "['Ateş', 'Parıltı']"
     },
     "execution_count": 18,
     "metadata": {},
     "output_type": "execute_result"
    }
   ],
   "source": [
    "#split derken parantezin içi,kelimenin neye göre ayrılacağını verir ve max split sayısı verilebilir\n",
    "my_name2 = \"Ateş Parıltı\"\n",
    "my_name2.split()"
   ],
   "metadata": {
    "collapsed": false,
    "ExecuteTime": {
     "end_time": "2023-11-17T18:34:43.157427Z",
     "start_time": "2023-11-17T18:34:43.144204900Z"
    }
   },
   "id": "b8fab74ed6c97122"
  },
  {
   "cell_type": "code",
   "execution_count": 19,
   "outputs": [
    {
     "data": {
      "text/plain": "['abcç', 'defghı', 'ijklm', 'noöprsşt', 'uüvyz']"
     },
     "execution_count": 19,
     "metadata": {},
     "output_type": "execute_result"
    }
   ],
   "source": [
    "my_name5 = \"abcç\\ndefghı\\nijklm\\nnoöprsşt\\nuüvyz\"\n",
    "my_name5.splitlines()"
   ],
   "metadata": {
    "collapsed": false,
    "ExecuteTime": {
     "end_time": "2023-11-17T18:36:20.888961700Z",
     "start_time": "2023-11-17T18:36:20.874714900Z"
    }
   },
   "id": "dbc2104da349b121"
  },
  {
   "cell_type": "code",
   "execution_count": 22,
   "outputs": [
    {
     "data": {
      "text/plain": "'ateşateşateşateşateşateşateşateşateşateş'"
     },
     "execution_count": 22,
     "metadata": {},
     "output_type": "execute_result"
    }
   ],
   "source": [
    "my_name=\"ateş\"\n",
    "my_name*10"
   ],
   "metadata": {
    "collapsed": false,
    "ExecuteTime": {
     "end_time": "2023-11-17T18:36:50.914433400Z",
     "start_time": "2023-11-17T18:36:50.902680Z"
    }
   },
   "id": "9b48712d62241fa6"
  },
  {
   "cell_type": "code",
   "execution_count": 24,
   "outputs": [],
   "source": [
    "#list\n"
   ],
   "metadata": {
    "collapsed": false,
    "ExecuteTime": {
     "end_time": "2023-11-17T18:37:14.534211600Z",
     "start_time": "2023-11-17T18:37:14.524696500Z"
    }
   },
   "id": "b2188051a029cdad"
  },
  {
   "cell_type": "code",
   "execution_count": 25,
   "outputs": [
    {
     "data": {
      "text/plain": "[5, 2, 6, 7, 9, 9]"
     },
     "execution_count": 25,
     "metadata": {},
     "output_type": "execute_result"
    }
   ],
   "source": [
    "mylist = [5, 2, 6, 7, 9]\n",
    "mylist.append(9)\n",
    "mylist"
   ],
   "metadata": {
    "collapsed": false,
    "ExecuteTime": {
     "end_time": "2023-11-17T18:37:16.519970400Z",
     "start_time": "2023-11-17T18:37:16.504942500Z"
    }
   },
   "id": "1a6ee21ec256b0c4"
  },
  {
   "cell_type": "code",
   "execution_count": 26,
   "outputs": [
    {
     "data": {
      "text/plain": "[6, 42.32, 'c', 'b', 'a']"
     },
     "execution_count": 26,
     "metadata": {},
     "output_type": "execute_result"
    }
   ],
   "source": [
    "my_mixed_list = [\"a\", \"b\", \"c\", 42.32, 6]\n",
    "my_mixed_list.reverse()\n",
    "my_mixed_list"
   ],
   "metadata": {
    "collapsed": false,
    "ExecuteTime": {
     "end_time": "2023-11-17T18:37:52.301850Z",
     "start_time": "2023-11-17T18:37:52.286833Z"
    }
   },
   "id": "5e1744fce0389b3b"
  },
  {
   "cell_type": "code",
   "execution_count": 27,
   "outputs": [],
   "source": [
    "#dictionary\n"
   ],
   "metadata": {
    "collapsed": false,
    "ExecuteTime": {
     "end_time": "2023-11-17T18:39:12.527665300Z",
     "start_time": "2023-11-17T18:39:12.509409600Z"
    }
   },
   "id": "d7247660aa081a5a"
  },
  {
   "cell_type": "code",
   "execution_count": 28,
   "outputs": [
    {
     "name": "stdout",
     "output_type": "stream",
     "text": [
      "{'name': 'Ateş', 'surname': 'Parıltı', 'age': 16, 'birth_day': '27 Haziran'}\n",
      "dict_keys(['name', 'surname', 'age', 'birth_day'])\n",
      "dict_values(['Ateş', 'Parıltı', 16, '27 Haziran'])\n",
      "Ateş\n"
     ]
    }
   ],
   "source": [
    "hesap = {\n",
    "    \"name\": \"Ateş\",\n",
    "    \"surname\": \"Parıltı\",\n",
    "    \"age\": 16\n",
    "}\n",
    "\n",
    "hesap[\"birth_day\"] = \"27 Haziran\"\n",
    "\n",
    "print(hesap)\n",
    "print(hesap.keys())\n",
    "print(hesap.values())\n",
    "print(hesap[\"name\"])"
   ],
   "metadata": {
    "collapsed": false,
    "ExecuteTime": {
     "end_time": "2023-11-17T18:39:38.210865900Z",
     "start_time": "2023-11-17T18:39:38.180255600Z"
    }
   },
   "id": "c7578f94224c08cb"
  },
  {
   "cell_type": "code",
   "execution_count": 29,
   "outputs": [
    {
     "data": {
      "text/plain": "set"
     },
     "execution_count": 29,
     "metadata": {},
     "output_type": "execute_result"
    }
   ],
   "source": [
    "#set komutu\n",
    "my_list = [1, 2, 3, 1]\n",
    "my_set = set(my_list)\n",
    "type(my_set)"
   ],
   "metadata": {
    "collapsed": false,
    "ExecuteTime": {
     "end_time": "2023-11-17T18:39:52.784326800Z",
     "start_time": "2023-11-17T18:39:52.767285500Z"
    }
   },
   "id": "32b7fa7792e0cfc0"
  },
  {
   "cell_type": "code",
   "execution_count": 2,
   "outputs": [],
   "source": [
    "#boolean\n",
    "#booleanda \"and\" komutu ile eğer ikisi de doğru ise doğru verir değilse her zaman yanlış"
   ],
   "metadata": {
    "collapsed": false,
    "ExecuteTime": {
     "end_time": "2023-11-18T08:29:46.721479800Z",
     "start_time": "2023-11-18T08:29:46.704334400Z"
    }
   },
   "id": "a16656b9506e70de"
  },
  {
   "cell_type": "code",
   "execution_count": 3,
   "outputs": [],
   "source": [
    "#booleanda or komutu ile iki değerden biri bile doğru ise doğru verir\n"
   ],
   "metadata": {
    "collapsed": false,
    "ExecuteTime": {
     "end_time": "2023-11-18T08:31:22.132973300Z",
     "start_time": "2023-11-18T08:31:22.109883500Z"
    }
   },
   "id": "ef859198202c6e8f"
  },
  {
   "cell_type": "code",
   "execution_count": 4,
   "outputs": [],
   "source": [
    "#else if yazmak yerine elif yazılabilir\n"
   ],
   "metadata": {
    "collapsed": false,
    "ExecuteTime": {
     "end_time": "2023-11-18T08:31:33.032526300Z",
     "start_time": "2023-11-18T08:31:33.013745Z"
    }
   },
   "id": "a8d223c23e028a59"
  },
  {
   "cell_type": "code",
   "execution_count": 5,
   "outputs": [],
   "source": [
    "#for döngüsü\n"
   ],
   "metadata": {
    "collapsed": false,
    "ExecuteTime": {
     "end_time": "2023-11-18T08:32:05.263944Z",
     "start_time": "2023-11-18T08:32:05.253429Z"
    }
   },
   "id": "50e73c075fd291ab"
  },
  {
   "cell_type": "code",
   "execution_count": 6,
   "outputs": [
    {
     "name": "stdout",
     "output_type": "stream",
     "text": [
      "1\n",
      "2\n",
      "3\n",
      "4\n",
      "5\n"
     ]
    }
   ],
   "source": [
    "list5= [1, 2, 3, 4, 5]\n",
    "for number in list5:\n",
    "    print(number)"
   ],
   "metadata": {
    "collapsed": false,
    "ExecuteTime": {
     "end_time": "2023-11-18T08:32:14.444824800Z",
     "start_time": "2023-11-18T08:32:14.427275400Z"
    }
   },
   "id": "7df5ccea7c49f917"
  },
  {
   "cell_type": "code",
   "execution_count": 7,
   "outputs": [
    {
     "name": "stdout",
     "output_type": "stream",
     "text": [
      "A\n",
      "e\n",
      " \n",
      "a\n",
      "ı\n",
      "ı\n"
     ]
    }
   ],
   "source": [
    "string= \"Ateş Parıltı\"\n",
    "for letter in string:\n",
    "    if string.index(letter)%2==0:\n",
    "        print(letter)"
   ],
   "metadata": {
    "collapsed": false,
    "ExecuteTime": {
     "end_time": "2023-11-18T08:32:27.971881300Z",
     "start_time": "2023-11-18T08:32:27.948860300Z"
    }
   },
   "id": "f58d5c58603383ac"
  },
  {
   "cell_type": "code",
   "execution_count": 8,
   "outputs": [
    {
     "name": "stdout",
     "output_type": "stream",
     "text": [
      "5\n",
      "10\n",
      "15\n"
     ]
    }
   ],
   "source": [
    "tupl = (1, 2, 3)\n",
    "for item in tupl:\n",
    "    print(item * 5)"
   ],
   "metadata": {
    "collapsed": false,
    "ExecuteTime": {
     "end_time": "2023-11-18T08:32:43.212844100Z",
     "start_time": "2023-11-18T08:32:43.194468900Z"
    }
   },
   "id": "725d0bd5e25f303e"
  },
  {
   "cell_type": "code",
   "execution_count": 9,
   "outputs": [],
   "source": [
    "#while döngüsü\n"
   ],
   "metadata": {
    "collapsed": false,
    "ExecuteTime": {
     "end_time": "2023-11-18T08:33:19.378256700Z",
     "start_time": "2023-11-18T08:33:19.360769900Z"
    }
   },
   "id": "82569a152ee65cae"
  },
  {
   "cell_type": "code",
   "execution_count": 10,
   "outputs": [
    {
     "name": "stdout",
     "output_type": "stream",
     "text": [
      "Ateş\n",
      "Ateş\n",
      "Ateş\n",
      "Ateş\n"
     ]
    }
   ],
   "source": [
    "f=0\n",
    "while f<4:\n",
    "    print(\"Ateş\")\n",
    "    f=f+1"
   ],
   "metadata": {
    "collapsed": false,
    "ExecuteTime": {
     "end_time": "2023-11-18T08:33:20.726173500Z",
     "start_time": "2023-11-18T08:33:20.708866800Z"
    }
   },
   "id": "b9a7c62fb68f4370"
  },
  {
   "cell_type": "code",
   "execution_count": 11,
   "outputs": [
    {
     "name": "stdout",
     "output_type": "stream",
     "text": [
      "value p p p: 0\n",
      "value p p p: 1\n",
      "value p p p: 2\n",
      "value p p p: 3\n",
      "value p p p: 4\n"
     ]
    }
   ],
   "source": [
    "p=0\n",
    "while p < 5:\n",
    "    #print(\"value p: \" + str(p))\n",
    "    print(f\"value p p p: {p}\")\n",
    "    p += 1"
   ],
   "metadata": {
    "collapsed": false,
    "ExecuteTime": {
     "end_time": "2023-11-18T08:34:04.348799600Z",
     "start_time": "2023-11-18T08:34:04.329860900Z"
    }
   },
   "id": "d25f53be9657f887"
  },
  {
   "cell_type": "code",
   "execution_count": 12,
   "outputs": [],
   "source": [
    "#range komutu\n"
   ],
   "metadata": {
    "collapsed": false,
    "ExecuteTime": {
     "end_time": "2023-11-18T08:34:27.894374400Z",
     "start_time": "2023-11-18T08:34:27.876350700Z"
    }
   },
   "id": "67552098bb680c9"
  },
  {
   "cell_type": "code",
   "execution_count": 13,
   "outputs": [
    {
     "data": {
      "text/plain": "[0, 1, 2, 3, 4, 5, 6, 7, 8, 9, 10, 11, 12, 13, 14, 15, 16, 17, 18, 19]"
     },
     "execution_count": 13,
     "metadata": {},
     "output_type": "execute_result"
    }
   ],
   "source": [
    "range(20)\n",
    "list(range(20))"
   ],
   "metadata": {
    "collapsed": false,
    "ExecuteTime": {
     "end_time": "2023-11-18T08:34:29.138769100Z",
     "start_time": "2023-11-18T08:34:29.116471800Z"
    }
   },
   "id": "9de2fe800d7a2317"
  },
  {
   "cell_type": "code",
   "execution_count": 14,
   "outputs": [
    {
     "name": "stdout",
     "output_type": "stream",
     "text": [
      "5\n",
      "9\n",
      "13\n",
      "17\n",
      "21\n"
     ]
    }
   ],
   "source": [
    "#range de birinci değer başlangıç ikinci değer bitiş üçüncü değer de atlama katsayısıdır\n",
    "for num in list(range(5,22,4)):\n",
    "    print(num)"
   ],
   "metadata": {
    "collapsed": false,
    "ExecuteTime": {
     "end_time": "2023-11-18T08:34:50.960628900Z",
     "start_time": "2023-11-18T08:34:50.942780900Z"
    }
   },
   "id": "bd4d4b1645a17a28"
  },
  {
   "cell_type": "code",
   "execution_count": 15,
   "outputs": [
    {
     "name": "stdout",
     "output_type": "stream",
     "text": [
      "(0, 3)\n",
      "(1, 4)\n",
      "(2, 5)\n",
      "(3, 6)\n",
      "(4, 7)\n",
      "(5, 8)\n",
      "(6, 9)\n",
      "(7, 10)\n",
      "(8, 11)\n",
      "(9, 12)\n",
      "(10, 13)\n",
      "(11, 14)\n",
      "(12, 15)\n"
     ]
    }
   ],
   "source": [
    "for element in enumerate(list(range(3,16))):\n",
    "    print(element)"
   ],
   "metadata": {
    "collapsed": false,
    "ExecuteTime": {
     "end_time": "2023-11-18T08:35:42.687684800Z",
     "start_time": "2023-11-18T08:35:42.667666500Z"
    }
   },
   "id": "3a240913973b70b4"
  },
  {
   "cell_type": "code",
   "execution_count": 16,
   "outputs": [
    {
     "data": {
      "text/plain": "459"
     },
     "execution_count": 16,
     "metadata": {},
     "output_type": "execute_result"
    }
   ],
   "source": [
    "#random yapılamaz pythonda import etmeden\n",
    "\n",
    "from random import randint\n",
    "\n",
    "randint(0, 1000)"
   ],
   "metadata": {
    "collapsed": false,
    "ExecuteTime": {
     "end_time": "2023-11-18T08:36:15.299357100Z",
     "start_time": "2023-11-18T08:36:15.280242500Z"
    }
   },
   "id": "3ae89852cf267577"
  },
  {
   "cell_type": "code",
   "execution_count": 17,
   "outputs": [
    {
     "data": {
      "text/plain": "[4, 5, 0, 8, 7, 6, 1, 2, 9, 3]"
     },
     "execution_count": 17,
     "metadata": {},
     "output_type": "execute_result"
    }
   ],
   "source": [
    "#shuffle ile list karıştırılabilir\n",
    "\n",
    "from random import shuffle\n",
    "list11=[1,2,3,4,5,6,7,8,9,0]\n",
    "shuffle(list11)\n",
    "list11"
   ],
   "metadata": {
    "collapsed": false,
    "ExecuteTime": {
     "end_time": "2023-11-18T08:36:39.345225300Z",
     "start_time": "2023-11-18T08:36:39.318200900Z"
    }
   },
   "id": "fb3a6effc99f5222"
  },
  {
   "cell_type": "code",
   "execution_count": 18,
   "outputs": [],
   "source": [
    "#zip ile listler birleştirilebilir\n",
    "\n",
    "sport_list = [\"run\",\"swim\",\"basketball\"]\n",
    "calories_list = [100,200,300]\n",
    "day_list = [\"monday\",\"tuesday\",\"wednesday\"]\n",
    "new_list = list( zip (sport_list,calories_list,day_list))"
   ],
   "metadata": {
    "collapsed": false,
    "ExecuteTime": {
     "end_time": "2023-11-18T08:37:09.002723500Z",
     "start_time": "2023-11-18T08:37:08.981266500Z"
    }
   },
   "id": "22cf4e9010e7ca21"
  },
  {
   "cell_type": "code",
   "execution_count": 19,
   "outputs": [
    {
     "data": {
      "text/plain": "[('run', 100, 'monday'),\n ('swim', 200, 'tuesday'),\n ('basketball', 300, 'wednesday')]"
     },
     "execution_count": 19,
     "metadata": {},
     "output_type": "execute_result"
    }
   ],
   "source": [
    "new_list"
   ],
   "metadata": {
    "collapsed": false,
    "ExecuteTime": {
     "end_time": "2023-11-18T08:37:15.153152800Z",
     "start_time": "2023-11-18T08:37:15.130120800Z"
    }
   },
   "id": "eed523ba60856c4b"
  },
  {
   "cell_type": "code",
   "execution_count": 21,
   "outputs": [
    {
     "data": {
      "text/plain": "['m', 'e', 't', 'a', 'l', 'l', 'i', 'c', 'a']"
     },
     "execution_count": 21,
     "metadata": {},
     "output_type": "execute_result"
    }
   ],
   "source": [
    "#stringlerde append kullanılarak kelimeler harflere bölünebilir\n",
    "\n",
    "new_list1 = []\n",
    "my_string = \"metallica\"\n",
    "\n",
    "for element in my_string:\n",
    "    new_list1.append(element)\n",
    "new_list1"
   ],
   "metadata": {
    "collapsed": false,
    "ExecuteTime": {
     "end_time": "2023-11-18T08:39:32.758164100Z",
     "start_time": "2023-11-18T08:39:32.742944100Z"
    }
   },
   "id": "cdf775c722b63d65"
  },
  {
   "cell_type": "code",
   "execution_count": 22,
   "outputs": [
    {
     "data": {
      "text/plain": "['m', 'e', 't', 'a', 'l', 'l', 'i', 'c', 'a']"
     },
     "execution_count": 22,
     "metadata": {},
     "output_type": "execute_result"
    }
   ],
   "source": [
    "#kısa for ile de yapılabilir\n",
    "\n",
    "newlist2 = [element for element in my_string]\n",
    "newlist2"
   ],
   "metadata": {
    "collapsed": false,
    "ExecuteTime": {
     "end_time": "2023-11-18T08:39:55.105924100Z",
     "start_time": "2023-11-18T08:39:55.080618800Z"
    }
   },
   "id": "e73274a522d1b5b8"
  },
  {
   "cell_type": "code",
   "execution_count": 23,
   "outputs": [
    {
     "name": "stdout",
     "output_type": "stream",
     "text": [
      "hello\n",
      "world\n"
     ]
    }
   ],
   "source": [
    "#def ile fonksiyonlar birleştirilebilir\n",
    "\n",
    "def hello_world():\n",
    "    print(\"hello\")\n",
    "    print(\"world\")\n",
    "\n",
    "\n",
    "hello_world()"
   ],
   "metadata": {
    "collapsed": false,
    "ExecuteTime": {
     "end_time": "2023-11-18T08:40:23.789329Z",
     "start_time": "2023-11-18T08:40:23.761411100Z"
    }
   },
   "id": "db47a7854f4772be"
  },
  {
   "cell_type": "code",
   "execution_count": 26,
   "outputs": [
    {
     "name": "stdout",
     "output_type": "stream",
     "text": [
      "selam\n",
      "12\n"
     ]
    }
   ],
   "source": [
    "def hello_programming(name):\n",
    "    print(\"selam\")\n",
    "    print(name)\n",
    "\n",
    "\n",
    "hello_programming(12)"
   ],
   "metadata": {
    "collapsed": false,
    "ExecuteTime": {
     "end_time": "2023-11-18T08:41:38.616715900Z",
     "start_time": "2023-11-18T08:41:38.599962700Z"
    }
   },
   "id": "6a251c345594de2d"
  },
  {
   "cell_type": "code",
   "execution_count": 27,
   "outputs": [
    {
     "name": "stdout",
     "output_type": "stream",
     "text": [
      "Hello\n",
      "CSS\n"
     ]
    }
   ],
   "source": [
    "#tanımlarken verdiğimiz değeri sonradan değiştirebiliriz\n",
    "def a(name=\"Python\"):\n",
    "    print(\"Hello\")\n",
    "    print(name)\n",
    "\n",
    "\n",
    "a(\"CSS\")"
   ],
   "metadata": {
    "collapsed": false,
    "ExecuteTime": {
     "end_time": "2023-11-18T08:42:07.463478100Z",
     "start_time": "2023-11-18T08:42:07.441004800Z"
    }
   },
   "id": "64b271dbaf31e164"
  },
  {
   "cell_type": "code",
   "execution_count": 29,
   "outputs": [
    {
     "name": "stdout",
     "output_type": "stream",
     "text": [
      "28\n"
     ]
    }
   ],
   "source": [
    "#def i değişkenlerle matematik işlemleri yapmak için de kullanılabilir\n",
    "\n",
    "def summ(number1, number2):\n",
    "    number3 = number1 + number2\n",
    "    print(number3)\n",
    "\n",
    "\n",
    "summ(33, -5)"
   ],
   "metadata": {
    "collapsed": false,
    "ExecuteTime": {
     "end_time": "2023-11-18T09:23:21.003423Z",
     "start_time": "2023-11-18T09:23:20.990856500Z"
    }
   },
   "id": "2e60e02938232d5"
  },
  {
   "cell_type": "code",
   "execution_count": 31,
   "outputs": [
    {
     "name": "stdout",
     "output_type": "stream",
     "text": [
      "9\n"
     ]
    },
    {
     "data": {
      "text/plain": "NoneType"
     },
     "execution_count": 31,
     "metadata": {},
     "output_type": "execute_result"
    }
   ],
   "source": [
    "my_integer = summ(6, 3)\n",
    "type(my_integer)"
   ],
   "metadata": {
    "collapsed": false,
    "ExecuteTime": {
     "end_time": "2023-11-18T09:23:47.385395100Z",
     "start_time": "2023-11-18T09:23:47.375374200Z"
    }
   },
   "id": "9612269b390c6db4"
  },
  {
   "cell_type": "code",
   "execution_count": 32,
   "outputs": [
    {
     "name": "stdout",
     "output_type": "stream",
     "text": [
      "mmm\n"
     ]
    },
    {
     "data": {
      "text/plain": "'AteS'"
     },
     "execution_count": 32,
     "metadata": {},
     "output_type": "execute_result"
    }
   ],
   "source": [
    "def c_strings(s):\n",
    "    if (s[0]) == \"m\":\n",
    "        print(\"mmm\")\n",
    "\n",
    "    return s\n",
    "\n",
    "\n",
    "c_strings(\"metallica\")\n",
    "c_strings(\"AteS\")"
   ],
   "metadata": {
    "collapsed": false,
    "ExecuteTime": {
     "end_time": "2023-11-18T09:24:03.473884500Z",
     "start_time": "2023-11-18T09:24:03.446102900Z"
    }
   },
   "id": "3ed43e6ee0ccde47"
  },
  {
   "cell_type": "code",
   "execution_count": 33,
   "outputs": [
    {
     "data": {
      "text/plain": "799"
     },
     "execution_count": 33,
     "metadata": {},
     "output_type": "execute_result"
    }
   ],
   "source": [
    "#args ile değişken sayısı belirtmeden de işlem yapılabilir\n",
    "\n",
    "def summations2(*args):\n",
    "    return sum(args)\n",
    "\n",
    "\n",
    "summations2(332, 234, 231, 2)"
   ],
   "metadata": {
    "collapsed": false,
    "ExecuteTime": {
     "end_time": "2023-11-18T09:24:37.592702900Z",
     "start_time": "2023-11-18T09:24:37.568288500Z"
    }
   },
   "id": "916b33d8bc017c9d"
  },
  {
   "cell_type": "code",
   "execution_count": 35,
   "outputs": [
    {
     "name": "stdout",
     "output_type": "stream",
     "text": [
      "{'run': 100, 'swim': 200, 'basketball': 300}\n"
     ]
    }
   ],
   "source": [
    "def e_func(**kwargs):\n",
    "    print(kwargs)\n",
    "\n",
    "\n",
    "e_func(run=100, swim=200, basketball=300)"
   ],
   "metadata": {
    "collapsed": false,
    "ExecuteTime": {
     "end_time": "2023-11-18T09:24:56.858000200Z",
     "start_time": "2023-11-18T09:24:56.844974300Z"
    }
   },
   "id": "5e9be56b7621ebe3"
  },
  {
   "cell_type": "code",
   "execution_count": 36,
   "outputs": [
    {
     "name": "stdout",
     "output_type": "stream",
     "text": [
      "Heavy Metalll!\n"
     ]
    }
   ],
   "source": [
    "def keyword_func(**kwargs):\n",
    "    if \"Metallica\" in kwargs:\n",
    "        print(\"Heavy Metalll!\")\n",
    "    else:\n",
    "        print(\"Rock is dead!!\")\n",
    "\n",
    "\n",
    "keyword_func(Metallica=10, Madonna=20, Muslum=30)"
   ],
   "metadata": {
    "collapsed": false,
    "ExecuteTime": {
     "end_time": "2023-11-18T09:25:11.051954900Z",
     "start_time": "2023-11-18T09:25:11.028808700Z"
    }
   },
   "id": "b43a7f1df5bd3490"
  },
  {
   "cell_type": "code",
   "execution_count": 38,
   "outputs": [
    {
     "name": "stdout",
     "output_type": "stream",
     "text": [
      "[0.5, 1.0, 1.5, 2.0, 2.5, 3.0, 3.5, 4.0, 4.5]\n"
     ]
    }
   ],
   "source": [
    "def d(number):\n",
    "    return number / 2\n",
    "my_list = [1, 2, 3, 4, 5, 6, 7, 8, 9]\n",
    "my_new_list = []\n",
    "for num in my_list:\n",
    "    my_new_list.append(d(num))\n",
    "print(my_new_list)"
   ],
   "metadata": {
    "collapsed": false,
    "ExecuteTime": {
     "end_time": "2023-11-18T09:25:59.497230600Z",
     "start_time": "2023-11-18T09:25:59.480306100Z"
    }
   },
   "id": "72cfb18881c665ae"
  },
  {
   "cell_type": "code",
   "execution_count": 39,
   "outputs": [
    {
     "data": {
      "text/plain": "[0.5, 1.0, 1.5, 2.0, 2.5, 3.0, 3.5, 4.0, 4.5]"
     },
     "execution_count": 39,
     "metadata": {},
     "output_type": "execute_result"
    }
   ],
   "source": [
    "#map ile daha hızlı ve az satır kullanılarak yazılabilir\n",
    "\n",
    "list(map(d, my_list))"
   ],
   "metadata": {
    "collapsed": false,
    "ExecuteTime": {
     "end_time": "2023-11-18T09:26:27.671926500Z",
     "start_time": "2023-11-18T09:26:27.647061900Z"
    }
   },
   "id": "3d62f553d16bb0b2"
  },
  {
   "cell_type": "code",
   "execution_count": 40,
   "outputs": [
    {
     "data": {
      "text/plain": "[False, False, False, False, False, False, False, True]"
     },
     "execution_count": 40,
     "metadata": {},
     "output_type": "execute_result"
    }
   ],
   "source": [
    "def control_string(string):\n",
    "    return \"Ateş\" in string\n",
    "my_a_list = [\"a\", \"b\", \"c\", \"d\", \"e\", \"f\", \"g\", \"Ateş\"]\n",
    "list(map(control_string, my_a_list))"
   ],
   "metadata": {
    "collapsed": false,
    "ExecuteTime": {
     "end_time": "2023-11-18T09:27:09.138756500Z",
     "start_time": "2023-11-18T09:27:09.103411200Z"
    }
   },
   "id": "1caf5b1a6465153e"
  },
  {
   "cell_type": "code",
   "execution_count": 42,
   "outputs": [
    {
     "data": {
      "text/plain": "['Ateş']"
     },
     "execution_count": 42,
     "metadata": {},
     "output_type": "execute_result"
    }
   ],
   "source": [
    "#filter ile listteki doğru değişkeni döndürebiliriz\n",
    "\n",
    "list(filter(control_string, my_a_list))"
   ],
   "metadata": {
    "collapsed": false,
    "ExecuteTime": {
     "end_time": "2023-11-18T09:28:03.650583400Z",
     "start_time": "2023-11-18T09:28:03.634254500Z"
    }
   },
   "id": "1965f6e8e829d484"
  },
  {
   "cell_type": "code",
   "execution_count": 43,
   "outputs": [
    {
     "data": {
      "text/plain": "24"
     },
     "execution_count": 43,
     "metadata": {},
     "output_type": "execute_result"
    }
   ],
   "source": [
    "#lambda ile fonksiyonu daha farklı şekilde yazabiliriz\n",
    "\n",
    "sum2 = lambda number1, number2: number1 + number2\n",
    "sum2(12, 12)"
   ],
   "metadata": {
    "collapsed": false,
    "ExecuteTime": {
     "end_time": "2023-11-18T09:28:55.251711700Z",
     "start_time": "2023-11-18T09:28:55.200326500Z"
    }
   },
   "id": "255717932f5057cc"
  },
  {
   "cell_type": "code",
   "execution_count": 45,
   "outputs": [
    {
     "data": {
      "text/plain": "215"
     },
     "execution_count": 45,
     "metadata": {},
     "output_type": "execute_result"
    }
   ],
   "source": [
    "number = 10\n",
    "\n",
    "\n",
    "def maa(num):\n",
    "    number = 5\n",
    "    return num * number\n",
    "\n",
    "\n",
    "def maa2(num):\n",
    "    return num * number\n",
    "maa(43)"
   ],
   "metadata": {
    "collapsed": false,
    "ExecuteTime": {
     "end_time": "2023-11-18T09:29:28.324989700Z",
     "start_time": "2023-11-18T09:29:28.303003100Z"
    }
   },
   "id": "257d78725537b2da"
  },
  {
   "cell_type": "code",
   "execution_count": 46,
   "outputs": [],
   "source": [
    "my_String = \"Ateş\"  #Global\n",
    "\n",
    "\n",
    "def my_func():\n",
    "    my_String = \"James\"  #Enclosing \n",
    "\n",
    "    def my_func2():\n",
    "        my_String = \"Lars\"  #Local\n",
    "        print(my_String)\n",
    "\n",
    "    my_func2()\n",
    "    print(my_String)"
   ],
   "metadata": {
    "collapsed": false,
    "ExecuteTime": {
     "end_time": "2023-11-18T09:36:23.708201800Z",
     "start_time": "2023-11-18T09:36:23.660389700Z"
    }
   },
   "id": "1a16aab8aabf09a4"
  },
  {
   "cell_type": "code",
   "execution_count": 47,
   "outputs": [
    {
     "name": "stdout",
     "output_type": "stream",
     "text": [
      "Lars\n",
      "James\n"
     ]
    }
   ],
   "source": [
    "my_func()"
   ],
   "metadata": {
    "collapsed": false,
    "ExecuteTime": {
     "end_time": "2023-11-18T09:36:44.088572Z",
     "start_time": "2023-11-18T09:36:44.058891700Z"
    }
   },
   "id": "79ab3f91ea58a8bd"
  },
  {
   "cell_type": "code",
   "execution_count": 48,
   "outputs": [
    {
     "data": {
      "text/plain": "'Ateş'"
     },
     "execution_count": 48,
     "metadata": {},
     "output_type": "execute_result"
    }
   ],
   "source": [
    "my_String\n"
   ],
   "metadata": {
    "collapsed": false,
    "ExecuteTime": {
     "end_time": "2023-11-18T09:36:47.635257400Z",
     "start_time": "2023-11-18T09:36:47.607903500Z"
    }
   },
   "id": "a14400f551ce33ae"
  },
  {
   "cell_type": "code",
   "execution_count": 49,
   "outputs": [
    {
     "name": "stdout",
     "output_type": "stream",
     "text": [
      "7\n",
      "5\n"
     ]
    },
    {
     "data": {
      "text/plain": "5"
     },
     "execution_count": 49,
     "metadata": {},
     "output_type": "execute_result"
    }
   ],
   "source": [
    "#fonksiyonun içersinde değer değişebilir\n",
    "\n",
    "y = 10\n",
    "\n",
    "\n",
    "def func_new(y):\n",
    "    print(y)\n",
    "    y = 5\n",
    "    print(y)\n",
    "    return (y)\n",
    "\n",
    "\n",
    "func_new(7)"
   ],
   "metadata": {
    "collapsed": false,
    "ExecuteTime": {
     "end_time": "2023-11-18T09:36:58.860901300Z",
     "start_time": "2023-11-18T09:36:58.810856400Z"
    }
   },
   "id": "bdea01efc5fcb707"
  },
  {
   "cell_type": "code",
   "execution_count": 50,
   "outputs": [
    {
     "name": "stdout",
     "output_type": "stream",
     "text": [
      "Func started\n",
      "Hello world\n",
      "Func ended\n"
     ]
    }
   ],
   "source": [
    "#fonksiyonun başlangıcı ve bitişine ekstra kelime ekleneebilir\n",
    "\n",
    "def func(new_func):\n",
    "    print(\"Func started\")\n",
    "    new_func()\n",
    "    print(\"Func ended\")\n",
    "\n",
    "\n",
    "def hello_func():\n",
    "    print(\"Hello world\")\n",
    "\n",
    "\n",
    "func(hello_func)"
   ],
   "metadata": {
    "collapsed": false,
    "ExecuteTime": {
     "end_time": "2023-11-18T09:37:23.070433700Z",
     "start_time": "2023-11-18T09:37:23.029890300Z"
    }
   },
   "id": "b645d16af2480e6a"
  },
  {
   "cell_type": "code",
   "execution_count": 51,
   "outputs": [
    {
     "name": "stdout",
     "output_type": "stream",
     "text": [
      "Wrapper started\n",
      "Hello world\n",
      "wrapper stopped\n"
     ]
    }
   ],
   "source": [
    "def decorator_f(func):\n",
    "    def wrapper_f():\n",
    "        print(\"Wrapper started\")\n",
    "        func()\n",
    "        print(\"wrapper stopped\")\n",
    "\n",
    "    return wrapper_f\n",
    "\n",
    "\n",
    "def func_new():\n",
    "    print(\"Hello world\")\n",
    "\n",
    "\n",
    "example_function = decorator_f(func_new)\n",
    "example_function()"
   ],
   "metadata": {
    "collapsed": false,
    "ExecuteTime": {
     "end_time": "2023-11-18T09:39:07.823839600Z",
     "start_time": "2023-11-18T09:39:07.786867100Z"
    }
   },
   "id": "e85ca6b59cce7d70"
  },
  {
   "cell_type": "code",
   "execution_count": 52,
   "outputs": [
    {
     "name": "stdout",
     "output_type": "stream",
     "text": [
      "Wrapper started\n",
      "Hello world\n",
      "wrapper stopped\n"
     ]
    }
   ],
   "source": [
    "# @ işareti koyup ismini yazarsak daha hızlı bir şekilde çağırabiliriz fonksiyonu\n",
    "\n",
    "@decorator_f\n",
    "def func_new():\n",
    "    print(\"Hello world\")\n",
    "\n",
    "\n",
    "func_new()"
   ],
   "metadata": {
    "collapsed": false,
    "ExecuteTime": {
     "end_time": "2023-11-18T09:39:26.468842800Z",
     "start_time": "2023-11-18T09:39:26.441311600Z"
    }
   },
   "id": "5014f6a1b69e7b34"
  },
  {
   "cell_type": "code",
   "execution_count": null,
   "outputs": [],
   "source": [],
   "metadata": {
    "collapsed": false
   },
   "id": "35869b1726065420"
  }
 ],
 "metadata": {
  "kernelspec": {
   "display_name": "Python 3",
   "language": "python",
   "name": "python3"
  },
  "language_info": {
   "codemirror_mode": {
    "name": "ipython",
    "version": 2
   },
   "file_extension": ".py",
   "mimetype": "text/x-python",
   "name": "python",
   "nbconvert_exporter": "python",
   "pygments_lexer": "ipython2",
   "version": "2.7.6"
  }
 },
 "nbformat": 4,
 "nbformat_minor": 5
}
