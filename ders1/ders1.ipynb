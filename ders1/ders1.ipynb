{
 "cells": [
  {
   "cell_type": "code",
   "execution_count": 1,
   "id": "initial_id",
   "metadata": {
    "collapsed": true,
    "ExecuteTime": {
     "end_time": "2023-11-05T12:27:39.691368400Z",
     "start_time": "2023-11-05T12:27:39.685964900Z"
    }
   },
   "outputs": [
    {
     "data": {
      "text/plain": "11"
     },
     "execution_count": 1,
     "metadata": {},
     "output_type": "execute_result"
    }
   ],
   "source": [
    "5 + 6"
   ]
  },
  {
   "cell_type": "code",
   "execution_count": 2,
   "outputs": [
    {
     "data": {
      "text/plain": "128.57142857142858"
     },
     "execution_count": 2,
     "metadata": {},
     "output_type": "execute_result"
    }
   ],
   "source": [
    "900 / 7"
   ],
   "metadata": {
    "collapsed": false,
    "ExecuteTime": {
     "end_time": "2023-11-05T12:27:59.069059Z",
     "start_time": "2023-11-05T12:27:59.062052600Z"
    }
   },
   "id": "9ae527258c215ef4"
  },
  {
   "cell_type": "code",
   "execution_count": 3,
   "outputs": [],
   "source": [
    "a = 900 / 7"
   ],
   "metadata": {
    "collapsed": false,
    "ExecuteTime": {
     "end_time": "2023-11-05T12:28:36.583410700Z",
     "start_time": "2023-11-05T12:28:36.577411200Z"
    }
   },
   "id": "76dacdd0e38c69b7"
  },
  {
   "cell_type": "code",
   "execution_count": 4,
   "outputs": [
    {
     "data": {
      "text/plain": "128.57142857142858"
     },
     "execution_count": 4,
     "metadata": {},
     "output_type": "execute_result"
    }
   ],
   "source": [
    "a"
   ],
   "metadata": {
    "collapsed": false,
    "ExecuteTime": {
     "end_time": "2023-11-05T12:28:40.466660800Z",
     "start_time": "2023-11-05T12:28:40.459637500Z"
    }
   },
   "id": "f389a02b287e05bd"
  },
  {
   "cell_type": "code",
   "execution_count": 5,
   "outputs": [
    {
     "data": {
      "text/plain": "64.28571428571429"
     },
     "execution_count": 5,
     "metadata": {},
     "output_type": "execute_result"
    }
   ],
   "source": [
    "a / 2"
   ],
   "metadata": {
    "collapsed": false,
    "ExecuteTime": {
     "end_time": "2023-11-05T12:28:45.789254500Z",
     "start_time": "2023-11-05T12:28:45.774528100Z"
    }
   },
   "id": "d5da2ab544af4c2b"
  },
  {
   "cell_type": "code",
   "execution_count": 6,
   "outputs": [
    {
     "data": {
      "text/plain": "8"
     },
     "execution_count": 6,
     "metadata": {},
     "output_type": "execute_result"
    }
   ],
   "source": [
    "2 ** 3"
   ],
   "metadata": {
    "collapsed": false,
    "ExecuteTime": {
     "end_time": "2023-11-05T12:28:59.193913800Z",
     "start_time": "2023-11-05T12:28:59.181210200Z"
    }
   },
   "id": "badeb3435818d925"
  },
  {
   "cell_type": "code",
   "execution_count": 7,
   "outputs": [
    {
     "data": {
      "text/plain": "1"
     },
     "execution_count": 7,
     "metadata": {},
     "output_type": "execute_result"
    }
   ],
   "source": [
    "10 % 3"
   ],
   "metadata": {
    "collapsed": false,
    "ExecuteTime": {
     "end_time": "2023-11-05T12:29:29.760783500Z",
     "start_time": "2023-11-05T12:29:29.754273100Z"
    }
   },
   "id": "a10cdc1cb00ccf61"
  },
  {
   "cell_type": "code",
   "execution_count": 8,
   "outputs": [
    {
     "ename": "TypeError",
     "evalue": "can only concatenate str (not \"int\") to str",
     "output_type": "error",
     "traceback": [
      "\u001B[1;31m---------------------------------------------------------------------------\u001B[0m",
      "\u001B[1;31mTypeError\u001B[0m                                 Traceback (most recent call last)",
      "Cell \u001B[1;32mIn[8], line 3\u001B[0m\n\u001B[0;32m      1\u001B[0m kelime \u001B[38;5;241m=\u001B[39m \u001B[38;5;124m\"\u001B[39m\u001B[38;5;124m12\u001B[39m\u001B[38;5;124m\"\u001B[39m\n\u001B[0;32m      2\u001B[0m sayi \u001B[38;5;241m=\u001B[39m \u001B[38;5;241m12\u001B[39m\n\u001B[1;32m----> 3\u001B[0m \u001B[38;5;28mprint\u001B[39m(\u001B[43mkelime\u001B[49m\u001B[38;5;241;43m+\u001B[39;49m\u001B[43msayi\u001B[49m)\n",
      "\u001B[1;31mTypeError\u001B[0m: can only concatenate str (not \"int\") to str"
     ]
    }
   ],
   "source": [
    "kelime = \"12\"\n",
    "sayi = 12\n",
    "print(kelime + sayi)"
   ],
   "metadata": {
    "collapsed": false,
    "ExecuteTime": {
     "end_time": "2023-11-05T12:30:29.672404400Z",
     "start_time": "2023-11-05T12:30:29.465993500Z"
    }
   },
   "id": "b6091e65f1a297d5"
  },
  {
   "cell_type": "code",
   "execution_count": 9,
   "outputs": [
    {
     "name": "stdout",
     "output_type": "stream",
     "text": [
      "24\n"
     ]
    }
   ],
   "source": [
    "print(int(kelime) + sayi)"
   ],
   "metadata": {
    "collapsed": false,
    "ExecuteTime": {
     "end_time": "2023-11-05T12:30:43.395372600Z",
     "start_time": "2023-11-05T12:30:43.389362600Z"
    }
   },
   "id": "9ced88c035e4e81a"
  },
  {
   "cell_type": "code",
   "execution_count": 10,
   "outputs": [
    {
     "name": "stdout",
     "output_type": "stream",
     "text": [
      "128\n"
     ]
    }
   ],
   "source": [
    "print(int(a))"
   ],
   "metadata": {
    "collapsed": false,
    "ExecuteTime": {
     "end_time": "2023-11-05T12:30:56.188785400Z",
     "start_time": "2023-11-05T12:30:56.183274900Z"
    }
   },
   "id": "5e52a3f4d5f5cace"
  },
  {
   "cell_type": "code",
   "execution_count": 11,
   "outputs": [
    {
     "data": {
      "text/plain": "float"
     },
     "execution_count": 11,
     "metadata": {},
     "output_type": "execute_result"
    }
   ],
   "source": [
    "type(a)"
   ],
   "metadata": {
    "collapsed": false,
    "ExecuteTime": {
     "end_time": "2023-11-05T12:31:22.243326400Z",
     "start_time": "2023-11-05T12:31:22.237180900Z"
    }
   },
   "id": "5f83a62de00e8df4"
  },
  {
   "cell_type": "code",
   "execution_count": 12,
   "outputs": [
    {
     "data": {
      "text/plain": "str"
     },
     "execution_count": 12,
     "metadata": {},
     "output_type": "execute_result"
    }
   ],
   "source": [
    "type(kelime)"
   ],
   "metadata": {
    "collapsed": false,
    "ExecuteTime": {
     "end_time": "2023-11-05T12:31:42.919250500Z",
     "start_time": "2023-11-05T12:31:42.913738600Z"
    }
   },
   "id": "f4639720ec0f2028"
  },
  {
   "cell_type": "code",
   "execution_count": 13,
   "outputs": [
    {
     "data": {
      "text/plain": "'hello world'"
     },
     "execution_count": 13,
     "metadata": {},
     "output_type": "execute_result"
    }
   ],
   "source": [
    "\"hello world\""
   ],
   "metadata": {
    "collapsed": false,
    "ExecuteTime": {
     "end_time": "2023-11-05T12:32:10.643426Z",
     "start_time": "2023-11-05T12:32:10.636497300Z"
    }
   },
   "id": "4e3f9075f3decb5f"
  },
  {
   "cell_type": "code",
   "execution_count": 14,
   "outputs": [],
   "source": [
    "bc = \"karışık kelimeler\""
   ],
   "metadata": {
    "collapsed": false,
    "ExecuteTime": {
     "end_time": "2023-11-05T12:32:48.237721500Z",
     "start_time": "2023-11-05T12:32:48.231266200Z"
    }
   },
   "id": "dae8f4454d801ff"
  },
  {
   "cell_type": "code",
   "execution_count": 15,
   "outputs": [
    {
     "data": {
      "text/plain": "17"
     },
     "execution_count": 15,
     "metadata": {},
     "output_type": "execute_result"
    }
   ],
   "source": [
    "len(bc)"
   ],
   "metadata": {
    "collapsed": false,
    "ExecuteTime": {
     "end_time": "2023-11-05T12:32:57.182292800Z",
     "start_time": "2023-11-05T12:32:57.175332Z"
    }
   },
   "id": "87e65b8ec62365bd"
  },
  {
   "cell_type": "code",
   "execution_count": 17,
   "outputs": [
    {
     "name": "stdout",
     "output_type": "stream",
     "text": [
      "karış\n"
     ]
    }
   ],
   "source": [
    "print(bc[0:5])"
   ],
   "metadata": {
    "collapsed": false,
    "ExecuteTime": {
     "end_time": "2023-11-05T12:34:02.729996800Z",
     "start_time": "2023-11-05T12:34:02.721991700Z"
    }
   },
   "id": "fda83892102b851a"
  },
  {
   "cell_type": "code",
   "execution_count": 18,
   "outputs": [
    {
     "name": "stdout",
     "output_type": "stream",
     "text": [
      "14\n"
     ]
    }
   ],
   "source": [
    "print(len(bc[3:]))"
   ],
   "metadata": {
    "collapsed": false,
    "ExecuteTime": {
     "end_time": "2023-11-05T12:34:52.864893900Z",
     "start_time": "2023-11-05T12:34:52.857381600Z"
    }
   },
   "id": "4237f839fef47f5b"
  },
  {
   "cell_type": "code",
   "execution_count": 19,
   "outputs": [
    {
     "ename": "SyntaxError",
     "evalue": "invalid syntax. Perhaps you forgot a comma? (2477288316.py, line 1)",
     "output_type": "error",
     "traceback": [
      "\u001B[1;36m  Cell \u001B[1;32mIn[19], line 1\u001B[1;36m\u001B[0m\n\u001B[1;33m    print(bc[])\u001B[0m\n\u001B[1;37m          ^\u001B[0m\n\u001B[1;31mSyntaxError\u001B[0m\u001B[1;31m:\u001B[0m invalid syntax. Perhaps you forgot a comma?\n"
     ]
    }
   ],
   "source": [
    "print(bc[])\n"
   ],
   "metadata": {
    "collapsed": false,
    "ExecuteTime": {
     "end_time": "2023-11-05T12:36:08.996581600Z",
     "start_time": "2023-11-05T12:36:08.990934400Z"
    }
   },
   "id": "56d0ad21666f7a3c"
  },
  {
   "cell_type": "code",
   "execution_count": 20,
   "outputs": [
    {
     "name": "stdout",
     "output_type": "stream",
     "text": [
      "k\n"
     ]
    }
   ],
   "source": [
    "print(bc[0])\n"
   ],
   "metadata": {
    "collapsed": false,
    "ExecuteTime": {
     "end_time": "2023-11-05T12:36:22.255693900Z",
     "start_time": "2023-11-05T12:36:22.248693900Z"
    }
   },
   "id": "2ec81b204fdf4e3"
  },
  {
   "cell_type": "code",
   "execution_count": 21,
   "outputs": [
    {
     "data": {
      "text/plain": "'karışık kelimeler'"
     },
     "execution_count": 21,
     "metadata": {},
     "output_type": "execute_result"
    }
   ],
   "source": [
    "bc[::]"
   ],
   "metadata": {
    "collapsed": false,
    "ExecuteTime": {
     "end_time": "2023-11-05T12:37:08.311913500Z",
     "start_time": "2023-11-05T12:37:08.304565Z"
    }
   },
   "id": "c746d34188351617"
  },
  {
   "cell_type": "code",
   "execution_count": 22,
   "outputs": [
    {
     "data": {
      "text/plain": "'kşkmr'"
     },
     "execution_count": 22,
     "metadata": {},
     "output_type": "execute_result"
    }
   ],
   "source": [
    "bc[::4]"
   ],
   "metadata": {
    "collapsed": false,
    "ExecuteTime": {
     "end_time": "2023-11-05T12:37:21.210662200Z",
     "start_time": "2023-11-05T12:37:21.202176200Z"
    }
   },
   "id": "dca6fe776809d55b"
  },
  {
   "cell_type": "code",
   "execution_count": 23,
   "outputs": [
    {
     "data": {
      "text/plain": "'relemilek kışırak'"
     },
     "execution_count": 23,
     "metadata": {},
     "output_type": "execute_result"
    }
   ],
   "source": [
    "bc[::-1]"
   ],
   "metadata": {
    "collapsed": false,
    "ExecuteTime": {
     "end_time": "2023-11-05T12:37:59.437519300Z",
     "start_time": "2023-11-05T12:37:59.429779900Z"
    }
   },
   "id": "689d90d1ea7dfd2b"
  },
  {
   "cell_type": "code",
   "execution_count": 25,
   "outputs": [],
   "source": [
    "my_name = \"ateş\""
   ],
   "metadata": {
    "collapsed": false,
    "ExecuteTime": {
     "end_time": "2023-11-05T12:38:35.470216800Z",
     "start_time": "2023-11-05T12:38:35.462252Z"
    }
   },
   "id": "744b145cb93c1fd8"
  },
  {
   "cell_type": "code",
   "execution_count": 27,
   "outputs": [
    {
     "data": {
      "text/plain": "'Ateş'"
     },
     "execution_count": 27,
     "metadata": {},
     "output_type": "execute_result"
    }
   ],
   "source": [
    "my_name.capitalize()"
   ],
   "metadata": {
    "collapsed": false,
    "ExecuteTime": {
     "end_time": "2023-11-05T12:39:31.405896200Z",
     "start_time": "2023-11-05T12:39:31.399104500Z"
    }
   },
   "id": "45acefd24398770f"
  },
  {
   "cell_type": "code",
   "execution_count": 28,
   "outputs": [],
   "source": [
    "my_name2 = \"Ateş Parıltı\""
   ],
   "metadata": {
    "collapsed": false,
    "ExecuteTime": {
     "end_time": "2023-11-05T12:40:11.955059300Z",
     "start_time": "2023-11-05T12:40:11.947544500Z"
    }
   },
   "id": "57124a753d15f590"
  },
  {
   "cell_type": "code",
   "execution_count": 29,
   "outputs": [
    {
     "data": {
      "text/plain": "['Ateş', 'Parıltı']"
     },
     "execution_count": 29,
     "metadata": {},
     "output_type": "execute_result"
    }
   ],
   "source": [
    "my_name2.split()"
   ],
   "metadata": {
    "collapsed": false,
    "ExecuteTime": {
     "end_time": "2023-11-05T12:40:23.911551300Z",
     "start_time": "2023-11-05T12:40:23.904136800Z"
    }
   },
   "id": "5473323c60599b97"
  },
  {
   "cell_type": "code",
   "execution_count": 34,
   "outputs": [],
   "source": [
    "my_name3 = \"Ateş, Parı,ltı, İstanbul, ataşehir\""
   ],
   "metadata": {
    "collapsed": false,
    "ExecuteTime": {
     "end_time": "2023-11-05T12:42:02.945797800Z",
     "start_time": "2023-11-05T12:42:02.942797700Z"
    }
   },
   "id": "751c93e2bc66cba1"
  },
  {
   "cell_type": "code",
   "execution_count": 36,
   "outputs": [
    {
     "data": {
      "text/plain": "['At', 'ş, Parı,ltı, İstanbul, ataş', 'hir']"
     },
     "execution_count": 36,
     "metadata": {},
     "output_type": "execute_result"
    }
   ],
   "source": [
    "my_name3.split(\"e\")"
   ],
   "metadata": {
    "collapsed": false,
    "ExecuteTime": {
     "end_time": "2023-11-05T12:42:45.870600300Z",
     "start_time": "2023-11-05T12:42:45.863819300Z"
    }
   },
   "id": "d8da60799d548280"
  },
  {
   "cell_type": "code",
   "execution_count": 37,
   "outputs": [],
   "source": [
    "my_name4 = \"Ateş,Parıltı,Barış,Abdulhakim\""
   ],
   "metadata": {
    "collapsed": false,
    "ExecuteTime": {
     "end_time": "2023-11-05T12:51:16.264188800Z",
     "start_time": "2023-11-05T12:51:16.254674500Z"
    }
   },
   "id": "fe93d0eda42acdd8"
  },
  {
   "cell_type": "code",
   "execution_count": 38,
   "outputs": [
    {
     "data": {
      "text/plain": "['Ateş', 'Parıltı', 'Barış,Abdulhakim']"
     },
     "execution_count": 38,
     "metadata": {},
     "output_type": "execute_result"
    }
   ],
   "source": [
    "my_name4.split(\",\", maxsplit=2)"
   ],
   "metadata": {
    "collapsed": false,
    "ExecuteTime": {
     "end_time": "2023-11-05T12:52:03.753904600Z",
     "start_time": "2023-11-05T12:52:03.743713700Z"
    }
   },
   "id": "87dd1c6cd10adf0"
  },
  {
   "cell_type": "code",
   "execution_count": 39,
   "outputs": [
    {
     "data": {
      "text/plain": "['abcç', 'defghı', 'ijklm', 'noöprsşt', 'uüvyz']"
     },
     "execution_count": 39,
     "metadata": {},
     "output_type": "execute_result"
    }
   ],
   "source": [
    "my_name5 = \"abcç\\ndefghı\\nijklm\\nnoöprsşt\\nuüvyz\"\n",
    "my_name5.splitlines()"
   ],
   "metadata": {
    "collapsed": false,
    "ExecuteTime": {
     "end_time": "2023-11-05T12:53:41.856362800Z",
     "start_time": "2023-11-05T12:53:41.846023Z"
    }
   },
   "id": "71634e73a54e22a6"
  },
  {
   "cell_type": "code",
   "execution_count": 40,
   "outputs": [
    {
     "data": {
      "text/plain": "'abcç\\ndefghı\\nijklm\\nnoöprsşt\\nuüvyz'"
     },
     "execution_count": 40,
     "metadata": {},
     "output_type": "execute_result"
    }
   ],
   "source": [
    "my_name5"
   ],
   "metadata": {
    "collapsed": false,
    "ExecuteTime": {
     "end_time": "2023-11-05T12:53:53.689863100Z",
     "start_time": "2023-11-05T12:53:53.680855100Z"
    }
   },
   "id": "129f72cc9ed8c1e5"
  },
  {
   "cell_type": "code",
   "execution_count": 41,
   "outputs": [
    {
     "data": {
      "text/plain": "['abcç\\n', 'defghı\\n', 'ijklm\\n', 'noöprsşt\\n', 'uüvyz']"
     },
     "execution_count": 41,
     "metadata": {},
     "output_type": "execute_result"
    }
   ],
   "source": [
    "my_name5.splitlines(keepends=True)"
   ],
   "metadata": {
    "collapsed": false,
    "ExecuteTime": {
     "end_time": "2023-11-05T12:54:44.028785600Z",
     "start_time": "2023-11-05T12:54:44.018602300Z"
    }
   },
   "id": "1547f06a9353d9b0"
  },
  {
   "cell_type": "code",
   "execution_count": 42,
   "outputs": [
    {
     "data": {
      "text/plain": "'AteşAteşAteşAteşAteşAteşAteşAteşAteşAteş'"
     },
     "execution_count": 42,
     "metadata": {},
     "output_type": "execute_result"
    }
   ],
   "source": [
    "\"Ateş\" * 10"
   ],
   "metadata": {
    "collapsed": false,
    "ExecuteTime": {
     "end_time": "2023-11-05T12:56:20.313456800Z",
     "start_time": "2023-11-05T12:56:20.301038400Z"
    }
   },
   "id": "69fc4380629941c7"
  },
  {
   "cell_type": "code",
   "execution_count": 43,
   "outputs": [
    {
     "data": {
      "text/plain": "'ateşateşateşateşateşateşateşateşateşateş'"
     },
     "execution_count": 43,
     "metadata": {},
     "output_type": "execute_result"
    }
   ],
   "source": [
    "my_name * 10"
   ],
   "metadata": {
    "collapsed": false,
    "ExecuteTime": {
     "end_time": "2023-11-05T12:56:33.234741300Z",
     "start_time": "2023-11-05T12:56:33.224861300Z"
    }
   },
   "id": "8370d96dadb16265"
  },
  {
   "cell_type": "code",
   "execution_count": 45,
   "outputs": [
    {
     "name": "stdout",
     "output_type": "stream",
     "text": [
      "ateş parıltı\n"
     ]
    }
   ],
   "source": [
    "isim = input(\"isim: \")\n",
    "soyisim = input(\"soyisim: \")\n",
    "print(isim + \" \" + soyisim)"
   ],
   "metadata": {
    "collapsed": false,
    "ExecuteTime": {
     "end_time": "2023-11-05T12:58:41.046890700Z",
     "start_time": "2023-11-05T12:58:33.480948600Z"
    }
   },
   "id": "5793080c68943b86"
  },
  {
   "cell_type": "code",
   "execution_count": 48,
   "outputs": [],
   "source": [
    "mylist = [5, 2, 6, 7, 9]\n",
    "mylist.append(9)"
   ],
   "metadata": {
    "collapsed": false,
    "ExecuteTime": {
     "end_time": "2023-11-05T13:01:23.700729Z",
     "start_time": "2023-11-05T13:01:23.690737300Z"
    }
   },
   "id": "71c829306b1e8e3a"
  },
  {
   "cell_type": "code",
   "execution_count": 49,
   "outputs": [
    {
     "data": {
      "text/plain": "[5, 2, 6, 7, 9, 9]"
     },
     "execution_count": 49,
     "metadata": {},
     "output_type": "execute_result"
    }
   ],
   "source": [
    "mylist"
   ],
   "metadata": {
    "collapsed": false,
    "ExecuteTime": {
     "end_time": "2023-11-05T13:01:27.814978200Z",
     "start_time": "2023-11-05T13:01:27.803342100Z"
    }
   },
   "id": "e9c75c8dfe8d36ff"
  },
  {
   "cell_type": "code",
   "execution_count": 50,
   "outputs": [],
   "source": [
    "mylist[3] = 5"
   ],
   "metadata": {
    "collapsed": false,
    "ExecuteTime": {
     "end_time": "2023-11-05T13:02:18.161426900Z",
     "start_time": "2023-11-05T13:02:18.150419900Z"
    }
   },
   "id": "11bfc5bc51739397"
  },
  {
   "cell_type": "code",
   "execution_count": 51,
   "outputs": [
    {
     "data": {
      "text/plain": "[5, 2, 6, 5, 9, 9]"
     },
     "execution_count": 51,
     "metadata": {},
     "output_type": "execute_result"
    }
   ],
   "source": [
    "mylist"
   ],
   "metadata": {
    "collapsed": false,
    "ExecuteTime": {
     "end_time": "2023-11-05T13:02:22.385129200Z",
     "start_time": "2023-11-05T13:02:22.373099300Z"
    }
   },
   "id": "1c6eba214ee94450"
  },
  {
   "cell_type": "code",
   "execution_count": 53,
   "outputs": [],
   "source": [
    "my_mixed_list = [\"a\", \"b\", \"c\", 42.32, 6]"
   ],
   "metadata": {
    "collapsed": false,
    "ExecuteTime": {
     "end_time": "2023-11-05T13:05:05.606603700Z",
     "start_time": "2023-11-05T13:05:05.597599200Z"
    }
   },
   "id": "9165d4389f0d101d"
  },
  {
   "cell_type": "code",
   "execution_count": 54,
   "outputs": [
    {
     "data": {
      "text/plain": "['a', 'b', 'c', 42.32, 6]"
     },
     "execution_count": 54,
     "metadata": {},
     "output_type": "execute_result"
    }
   ],
   "source": [
    "my_mixed_list"
   ],
   "metadata": {
    "collapsed": false,
    "ExecuteTime": {
     "end_time": "2023-11-05T13:05:48.852363100Z",
     "start_time": "2023-11-05T13:05:48.835533400Z"
    }
   },
   "id": "4703729d0af7d254"
  },
  {
   "cell_type": "code",
   "execution_count": 55,
   "outputs": [
    {
     "data": {
      "text/plain": "'c'"
     },
     "execution_count": 55,
     "metadata": {},
     "output_type": "execute_result"
    }
   ],
   "source": [
    "my_mixed_list[2]"
   ],
   "metadata": {
    "collapsed": false,
    "ExecuteTime": {
     "end_time": "2023-11-05T13:06:19.473719300Z",
     "start_time": "2023-11-05T13:06:19.461202700Z"
    }
   },
   "id": "67dc3a462eb69637"
  },
  {
   "cell_type": "code",
   "execution_count": 56,
   "outputs": [
    {
     "data": {
      "text/plain": "42.32"
     },
     "execution_count": 56,
     "metadata": {},
     "output_type": "execute_result"
    }
   ],
   "source": [
    "my_mixed_list[-2]"
   ],
   "metadata": {
    "collapsed": false,
    "ExecuteTime": {
     "end_time": "2023-11-05T13:06:27.961799700Z",
     "start_time": "2023-11-05T13:06:27.947771900Z"
    }
   },
   "id": "add658b73c9f56b9"
  },
  {
   "cell_type": "code",
   "execution_count": 57,
   "outputs": [],
   "source": [
    "my_mixed_list.reverse()"
   ],
   "metadata": {
    "collapsed": false,
    "ExecuteTime": {
     "end_time": "2023-11-05T13:08:11.198958400Z",
     "start_time": "2023-11-05T13:08:11.185825500Z"
    }
   },
   "id": "f6e3d8d661e3ffdc"
  },
  {
   "cell_type": "code",
   "execution_count": 58,
   "outputs": [
    {
     "data": {
      "text/plain": "[6, 42.32, 'c', 'b', 'a']"
     },
     "execution_count": 58,
     "metadata": {},
     "output_type": "execute_result"
    }
   ],
   "source": [
    "my_mixed_list"
   ],
   "metadata": {
    "collapsed": false,
    "ExecuteTime": {
     "end_time": "2023-11-05T13:08:19.944085Z",
     "start_time": "2023-11-05T13:08:19.927554900Z"
    }
   },
   "id": "c56eed399e6f89fe"
  },
  {
   "cell_type": "code",
   "execution_count": 60,
   "outputs": [
    {
     "data": {
      "text/plain": "['d', 'f', 'e', 1, [2, 3]]"
     },
     "execution_count": 60,
     "metadata": {},
     "output_type": "execute_result"
    }
   ],
   "source": [
    "my_mixed_list2 = [\"d\", \"f\", \"e\", 1, [2, 3]]\n",
    "my_mixed_list2"
   ],
   "metadata": {
    "collapsed": false,
    "ExecuteTime": {
     "end_time": "2023-11-05T13:10:12.377155300Z",
     "start_time": "2023-11-05T13:10:12.374044Z"
    }
   },
   "id": "c35fba57d83f6347"
  },
  {
   "cell_type": "code",
   "execution_count": 61,
   "outputs": [
    {
     "data": {
      "text/plain": "3"
     },
     "execution_count": 61,
     "metadata": {},
     "output_type": "execute_result"
    }
   ],
   "source": [
    "my_mixed_list2[4][1]"
   ],
   "metadata": {
    "collapsed": false,
    "ExecuteTime": {
     "end_time": "2023-11-05T13:10:43.935548800Z",
     "start_time": "2023-11-05T13:10:43.912025Z"
    }
   },
   "id": "c07f1575b25ea6cc"
  },
  {
   "cell_type": "code",
   "execution_count": 62,
   "outputs": [
    {
     "data": {
      "text/plain": "['e', 1, [2, 3]]"
     },
     "execution_count": 62,
     "metadata": {},
     "output_type": "execute_result"
    }
   ],
   "source": [
    "my_mixed_list2[2:]"
   ],
   "metadata": {
    "collapsed": false,
    "ExecuteTime": {
     "end_time": "2023-11-05T13:11:16.396335600Z",
     "start_time": "2023-11-05T13:11:16.377078600Z"
    }
   },
   "id": "593ea0b18e6b7ea6"
  },
  {
   "cell_type": "code",
   "execution_count": 72,
   "outputs": [
    {
     "data": {
      "text/plain": "['d', 'f', 'e', 1, [2, 3], 6, 42.32, 'c', 'b', 'a', 'a', 'f', [2, 3]]"
     },
     "execution_count": 72,
     "metadata": {},
     "output_type": "execute_result"
    }
   ],
   "source": [
    "abcd = my_mixed_list2 + my_mixed_list + [\"a\", \"f\", [2, 3]]\n",
    "abcd"
   ],
   "metadata": {
    "collapsed": false,
    "ExecuteTime": {
     "end_time": "2023-11-05T13:16:50.955351800Z",
     "start_time": "2023-11-05T13:16:50.943307Z"
    }
   },
   "id": "a26c0470e56a20f0"
  },
  {
   "cell_type": "code",
   "execution_count": 78,
   "outputs": [
    {
     "name": "stdout",
     "output_type": "stream",
     "text": [
      "2\n"
     ]
    }
   ],
   "source": [
    "count = 0\n",
    "for i in abcd:\n",
    "    if i == \"f\":\n",
    "        count += 1\n",
    "print(count)"
   ],
   "metadata": {
    "collapsed": false,
    "ExecuteTime": {
     "end_time": "2023-11-05T13:19:35.603284500Z",
     "start_time": "2023-11-05T13:19:35.592291100Z"
    }
   },
   "id": "75803cec3acf754f"
  },
  {
   "cell_type": "code",
   "execution_count": 86,
   "outputs": [
    {
     "name": "stdout",
     "output_type": "stream",
     "text": [
      "{'name': 'Ateş', 'surname': 'Parıltı', 'age': 16, 'birth_day': '27 Haziran'}\n",
      "dict_keys(['name', 'surname', 'age', 'birth_day'])\n",
      "dict_values(['Ateş', 'Parıltı', 16, '27 Haziran'])\n",
      "Ateş\n"
     ]
    }
   ],
   "source": [
    "my_account = {\n",
    "    \"name\": \"Ateş\",\n",
    "    \"surname\": \"Parıltı\",\n",
    "    \"age\": 16\n",
    "}\n",
    "\n",
    "my_account[\"birth_day\"] = \"27 Haziran\"\n",
    "\n",
    "print(my_account)\n",
    "print(my_account.keys())\n",
    "print(my_account.values())\n",
    "print(my_account[\"name\"])"
   ],
   "metadata": {
    "collapsed": false,
    "ExecuteTime": {
     "end_time": "2023-11-05T13:35:20.745369800Z",
     "start_time": "2023-11-05T13:35:20.737240500Z"
    }
   },
   "id": "542bea1aa418fdb5"
  },
  {
   "cell_type": "code",
   "execution_count": 87,
   "outputs": [],
   "source": [
    "my_list = [1, 2, 3, 1]"
   ],
   "metadata": {
    "collapsed": false,
    "ExecuteTime": {
     "end_time": "2023-11-05T13:37:41.877030500Z",
     "start_time": "2023-11-05T13:37:41.855987400Z"
    }
   },
   "id": "857271579a805dd0"
  },
  {
   "cell_type": "code",
   "execution_count": 88,
   "outputs": [],
   "source": [
    "my_set = set(my_list)"
   ],
   "metadata": {
    "collapsed": false,
    "ExecuteTime": {
     "end_time": "2023-11-05T13:38:07.611593800Z",
     "start_time": "2023-11-05T13:38:07.590572300Z"
    }
   },
   "id": "678459fa5af09a42"
  },
  {
   "cell_type": "code",
   "execution_count": 90,
   "outputs": [
    {
     "data": {
      "text/plain": "set"
     },
     "execution_count": 90,
     "metadata": {},
     "output_type": "execute_result"
    }
   ],
   "source": [
    "type(my_set)"
   ],
   "metadata": {
    "collapsed": false,
    "ExecuteTime": {
     "end_time": "2023-11-05T13:38:27.603873400Z",
     "start_time": "2023-11-05T13:38:27.593664800Z"
    }
   },
   "id": "2395f97722cc462f"
  },
  {
   "cell_type": "code",
   "execution_count": 91,
   "outputs": [
    {
     "data": {
      "text/plain": "{1, 2, 3}"
     },
     "execution_count": 91,
     "metadata": {},
     "output_type": "execute_result"
    }
   ],
   "source": [
    "my_set"
   ],
   "metadata": {
    "collapsed": false,
    "ExecuteTime": {
     "end_time": "2023-11-05T13:38:33.796337600Z",
     "start_time": "2023-11-05T13:38:33.774303500Z"
    }
   },
   "id": "401c498c7c8839ad"
  },
  {
   "cell_type": "code",
   "execution_count": 92,
   "outputs": [
    {
     "data": {
      "text/plain": "{'a', 'b'}"
     },
     "execution_count": 92,
     "metadata": {},
     "output_type": "execute_result"
    }
   ],
   "source": [
    "my_set_3 = {\"a\", \"b\", \"a\"}\n",
    "my_set_3"
   ],
   "metadata": {
    "collapsed": false,
    "ExecuteTime": {
     "end_time": "2023-11-05T13:39:16.086603Z",
     "start_time": "2023-11-05T13:39:16.062677800Z"
    }
   },
   "id": "fdbe1948330257ab"
  },
  {
   "cell_type": "code",
   "execution_count": 93,
   "outputs": [],
   "source": [
    "my_set_3.add(\"a\")"
   ],
   "metadata": {
    "collapsed": false,
    "ExecuteTime": {
     "end_time": "2023-11-05T13:40:17.356668200Z",
     "start_time": "2023-11-05T13:40:17.333650200Z"
    }
   },
   "id": "493d2494373b025b"
  },
  {
   "cell_type": "code",
   "execution_count": 95,
   "outputs": [
    {
     "data": {
      "text/plain": "{'a', 'b'}"
     },
     "execution_count": 95,
     "metadata": {},
     "output_type": "execute_result"
    }
   ],
   "source": [
    "\n",
    "my_set_3"
   ],
   "metadata": {
    "collapsed": false,
    "ExecuteTime": {
     "end_time": "2023-11-05T13:40:35.674649400Z",
     "start_time": "2023-11-05T13:40:35.662995800Z"
    }
   },
   "id": "ba319cb7dc5c44f"
  },
  {
   "cell_type": "code",
   "execution_count": 96,
   "outputs": [],
   "source": [
    "my_set_3.add(\"3\")"
   ],
   "metadata": {
    "collapsed": false,
    "ExecuteTime": {
     "end_time": "2023-11-05T13:40:54.800859400Z",
     "start_time": "2023-11-05T13:40:54.778072800Z"
    }
   },
   "id": "7cba34276d53491c"
  },
  {
   "cell_type": "code",
   "execution_count": 101,
   "outputs": [],
   "source": [
    "my_set_3.add(\"c\")\n",
    "my_set_3.add(\"e\")\n",
    "my_set_3.add(\"d\")"
   ],
   "metadata": {
    "collapsed": false,
    "ExecuteTime": {
     "end_time": "2023-11-05T13:42:32.045387500Z",
     "start_time": "2023-11-05T13:42:32.034385200Z"
    }
   },
   "id": "830bd87c4432c645"
  },
  {
   "cell_type": "code",
   "execution_count": 102,
   "outputs": [
    {
     "data": {
      "text/plain": "{'3', 'a', 'b', 'c', 'd', 'e'}"
     },
     "execution_count": 102,
     "metadata": {},
     "output_type": "execute_result"
    }
   ],
   "source": [
    "my_set_3\n"
   ],
   "metadata": {
    "collapsed": false,
    "ExecuteTime": {
     "end_time": "2023-11-05T13:42:34.815998600Z",
     "start_time": "2023-11-05T13:42:34.811723600Z"
    }
   },
   "id": "401d2956c7c82689"
  },
  {
   "cell_type": "code",
   "execution_count": 103,
   "outputs": [
    {
     "data": {
      "text/plain": "{'3', 'a', 'b', 'c', 'd', 'e'}"
     },
     "execution_count": 103,
     "metadata": {},
     "output_type": "execute_result"
    }
   ],
   "source": [
    "my_set_3\n"
   ],
   "metadata": {
    "collapsed": false,
    "ExecuteTime": {
     "end_time": "2023-11-05T13:43:30.894729400Z",
     "start_time": "2023-11-05T13:43:30.871197500Z"
    }
   },
   "id": "3e35d2569412e307"
  },
  {
   "cell_type": "code",
   "execution_count": 104,
   "outputs": [],
   "source": [
    "my_set_4 = list()"
   ],
   "metadata": {
    "collapsed": false,
    "ExecuteTime": {
     "end_time": "2023-11-05T13:43:46.406407300Z",
     "start_time": "2023-11-05T13:43:46.384946200Z"
    }
   },
   "id": "85ff223bcdb1c35c"
  },
  {
   "cell_type": "code",
   "execution_count": 105,
   "outputs": [
    {
     "data": {
      "text/plain": "list"
     },
     "execution_count": 105,
     "metadata": {},
     "output_type": "execute_result"
    }
   ],
   "source": [
    "type(my_set_4)"
   ],
   "metadata": {
    "collapsed": false,
    "ExecuteTime": {
     "end_time": "2023-11-05T13:43:54.824587500Z",
     "start_time": "2023-11-05T13:43:54.800393700Z"
    }
   },
   "id": "fd947ce5217d5d0c"
  },
  {
   "cell_type": "code",
   "execution_count": 106,
   "outputs": [
    {
     "data": {
      "text/plain": "[]"
     },
     "execution_count": 106,
     "metadata": {},
     "output_type": "execute_result"
    }
   ],
   "source": [
    "my_set_4"
   ],
   "metadata": {
    "collapsed": false,
    "ExecuteTime": {
     "end_time": "2023-11-05T13:44:10.617155200Z",
     "start_time": "2023-11-05T13:44:10.591786800Z"
    }
   },
   "id": "5b7fc2aa88c4c409"
  },
  {
   "cell_type": "code",
   "execution_count": 107,
   "outputs": [],
   "source": [
    "my_set_4.append(3)"
   ],
   "metadata": {
    "collapsed": false,
    "ExecuteTime": {
     "end_time": "2023-11-05T13:44:18.247912Z",
     "start_time": "2023-11-05T13:44:18.224895200Z"
    }
   },
   "id": "a2717607fe2cc551"
  },
  {
   "cell_type": "code",
   "execution_count": 108,
   "outputs": [
    {
     "data": {
      "text/plain": "[3]"
     },
     "execution_count": 108,
     "metadata": {},
     "output_type": "execute_result"
    }
   ],
   "source": [
    "my_set_4"
   ],
   "metadata": {
    "collapsed": false,
    "ExecuteTime": {
     "end_time": "2023-11-05T13:44:20.755855800Z",
     "start_time": "2023-11-05T13:44:20.729832800Z"
    }
   },
   "id": "1374d900c450172f"
  },
  {
   "cell_type": "code",
   "execution_count": 112,
   "outputs": [],
   "source": [
    "my_set_4.append(4)\n"
   ],
   "metadata": {
    "collapsed": false,
    "ExecuteTime": {
     "end_time": "2023-11-05T13:44:56.828088900Z",
     "start_time": "2023-11-05T13:44:56.816083300Z"
    }
   },
   "id": "8b8b6afe8613653e"
  },
  {
   "cell_type": "code",
   "execution_count": 113,
   "outputs": [
    {
     "data": {
      "text/plain": "[3, 4]"
     },
     "execution_count": 113,
     "metadata": {},
     "output_type": "execute_result"
    }
   ],
   "source": [
    "my_set_4"
   ],
   "metadata": {
    "collapsed": false,
    "ExecuteTime": {
     "end_time": "2023-11-05T13:44:59.959532200Z",
     "start_time": "2023-11-05T13:44:59.931507Z"
    }
   },
   "id": "ce7a2dc1c255f6f3"
  },
  {
   "cell_type": "code",
   "execution_count": 114,
   "outputs": [],
   "source": [
    "my_dict = dict()\n",
    "my_set_1 = set()\n",
    "my_tuple = tuple()"
   ],
   "metadata": {
    "collapsed": false,
    "ExecuteTime": {
     "end_time": "2023-11-05T13:46:13.273971900Z",
     "start_time": "2023-11-05T13:46:13.245694400Z"
    }
   },
   "id": "51307f603895c3d1"
  },
  {
   "cell_type": "code",
   "execution_count": 115,
   "outputs": [],
   "source": [
    "my_tuple = (\"a\", 1, \"c\")"
   ],
   "metadata": {
    "collapsed": false,
    "ExecuteTime": {
     "end_time": "2023-11-05T13:46:54.707770800Z",
     "start_time": "2023-11-05T13:46:54.680240500Z"
    }
   },
   "id": "1d05e795c49dd0b1"
  },
  {
   "cell_type": "code",
   "execution_count": 116,
   "outputs": [
    {
     "data": {
      "text/plain": "'a'"
     },
     "execution_count": 116,
     "metadata": {},
     "output_type": "execute_result"
    }
   ],
   "source": [
    "my_tuple[0]"
   ],
   "metadata": {
    "collapsed": false,
    "ExecuteTime": {
     "end_time": "2023-11-05T13:47:00.668032200Z",
     "start_time": "2023-11-05T13:47:00.640671600Z"
    }
   },
   "id": "d48ee557710a46ad"
  },
  {
   "cell_type": "code",
   "execution_count": 119,
   "outputs": [
    {
     "ename": "TypeError",
     "evalue": "'tuple' object does not support item assignment",
     "output_type": "error",
     "traceback": [
      "\u001B[1;31m---------------------------------------------------------------------------\u001B[0m",
      "\u001B[1;31mTypeError\u001B[0m                                 Traceback (most recent call last)",
      "Cell \u001B[1;32mIn[119], line 1\u001B[0m\n\u001B[1;32m----> 1\u001B[0m \u001B[43mmy_tuple\u001B[49m\u001B[43m[\u001B[49m\u001B[38;5;241;43m0\u001B[39;49m\u001B[43m]\u001B[49m \u001B[38;5;241m=\u001B[39m \u001B[38;5;124m\"\u001B[39m\u001B[38;5;124mb\u001B[39m\u001B[38;5;124m\"\u001B[39m\n",
      "\u001B[1;31mTypeError\u001B[0m: 'tuple' object does not support item assignment"
     ]
    }
   ],
   "source": [
    "my_tuple[0] = \"b\""
   ],
   "metadata": {
    "collapsed": false,
    "ExecuteTime": {
     "end_time": "2023-11-05T13:47:18.739892500Z",
     "start_time": "2023-11-05T13:47:18.729599500Z"
    }
   },
   "id": "dbb39256b53af7cf"
  },
  {
   "cell_type": "code",
   "execution_count": 121,
   "outputs": [],
   "source": [
    "my_tuple1 = (2, 2, 2, 2, \"a\", \"a\", \"b\", \"c\", \"d\")"
   ],
   "metadata": {
    "collapsed": false,
    "ExecuteTime": {
     "end_time": "2023-11-05T13:49:05.914777900Z",
     "start_time": "2023-11-05T13:49:05.909457900Z"
    }
   },
   "id": "a8dc1987cf510713"
  },
  {
   "cell_type": "code",
   "execution_count": 123,
   "outputs": [
    {
     "data": {
      "text/plain": "8"
     },
     "execution_count": 123,
     "metadata": {},
     "output_type": "execute_result"
    }
   ],
   "source": [
    "my_tuple1.index(\"d\")\n"
   ],
   "metadata": {
    "collapsed": false,
    "ExecuteTime": {
     "end_time": "2023-11-05T13:49:26.452596200Z",
     "start_time": "2023-11-05T13:49:26.437756200Z"
    }
   },
   "id": "386f31c53426e84"
  },
  {
   "cell_type": "code",
   "execution_count": 124,
   "outputs": [
    {
     "data": {
      "text/plain": "4"
     },
     "execution_count": 124,
     "metadata": {},
     "output_type": "execute_result"
    }
   ],
   "source": [
    "my_tuple1.count(2)"
   ],
   "metadata": {
    "collapsed": false,
    "ExecuteTime": {
     "end_time": "2023-11-05T13:49:55.330458800Z",
     "start_time": "2023-11-05T13:49:55.293920Z"
    }
   },
   "id": "79116de1b51f449"
  },
  {
   "cell_type": "code",
   "execution_count": 126,
   "outputs": [
    {
     "data": {
      "text/plain": "(2, 2, 2, 2, 'a', 'a', 'b', 'c', 'd')"
     },
     "execution_count": 126,
     "metadata": {},
     "output_type": "execute_result"
    }
   ],
   "source": [
    "my_tuple1"
   ],
   "metadata": {
    "collapsed": false,
    "ExecuteTime": {
     "end_time": "2023-11-05T13:50:25.956858Z",
     "start_time": "2023-11-05T13:50:25.949692800Z"
    }
   },
   "id": "5663829381ff0a06"
  },
  {
   "cell_type": "code",
   "execution_count": 127,
   "outputs": [
    {
     "data": {
      "text/plain": "False"
     },
     "execution_count": 127,
     "metadata": {},
     "output_type": "execute_result"
    }
   ],
   "source": [
    "5 < 3"
   ],
   "metadata": {
    "collapsed": false,
    "ExecuteTime": {
     "end_time": "2023-11-05T13:51:31.646412100Z",
     "start_time": "2023-11-05T13:51:31.618920100Z"
    }
   },
   "id": "a0fcdfab8bbe6d6"
  },
  {
   "cell_type": "code",
   "execution_count": 128,
   "outputs": [
    {
     "data": {
      "text/plain": "True"
     },
     "execution_count": 128,
     "metadata": {},
     "output_type": "execute_result"
    }
   ],
   "source": [
    "4 < 6"
   ],
   "metadata": {
    "collapsed": false,
    "ExecuteTime": {
     "end_time": "2023-11-05T13:51:38.088892900Z",
     "start_time": "2023-11-05T13:51:38.058950500Z"
    }
   },
   "id": "6cf47e54f127f0f8"
  },
  {
   "cell_type": "code",
   "execution_count": 131,
   "outputs": [],
   "source": [
    "y = (input(\"y:\"))"
   ],
   "metadata": {
    "collapsed": false,
    "ExecuteTime": {
     "end_time": "2023-11-05T13:52:48.753229100Z",
     "start_time": "2023-11-05T13:52:46.339598100Z"
    }
   },
   "id": "82771d8b46fb870e"
  },
  {
   "cell_type": "code",
   "execution_count": 132,
   "outputs": [
    {
     "data": {
      "text/plain": "'6'"
     },
     "execution_count": 132,
     "metadata": {},
     "output_type": "execute_result"
    }
   ],
   "source": [
    "y\n"
   ],
   "metadata": {
    "collapsed": false,
    "ExecuteTime": {
     "end_time": "2023-11-05T13:52:52.284303800Z",
     "start_time": "2023-11-05T13:52:52.269774100Z"
    }
   },
   "id": "28bb7358fb4bb733"
  },
  {
   "cell_type": "code",
   "execution_count": 9,
   "outputs": [
    {
     "data": {
      "text/plain": "float"
     },
     "execution_count": 9,
     "metadata": {},
     "output_type": "execute_result"
    }
   ],
   "source": [
    "a = 5\n",
    "b = 11\n",
    "c = b / a\n",
    "type"
   ],
   "metadata": {
    "collapsed": false,
    "ExecuteTime": {
     "end_time": "2023-11-27T17:48:42.724936700Z",
     "start_time": "2023-11-27T17:48:42.710417700Z"
    }
   },
   "id": "24c0e272c1d8661b"
  },
  {
   "cell_type": "code",
   "execution_count": 10,
   "outputs": [
    {
     "data": {
      "text/plain": "int"
     },
     "execution_count": 10,
     "metadata": {},
     "output_type": "execute_result"
    }
   ],
   "source": [
    "h=-1\n",
    "type(h)"
   ],
   "metadata": {
    "collapsed": false,
    "ExecuteTime": {
     "end_time": "2023-11-27T18:14:16.882669300Z",
     "start_time": "2023-11-27T18:14:16.843128800Z"
    }
   },
   "id": "a00f6d176a127b4e"
  },
  {
   "cell_type": "code",
   "execution_count": null,
   "outputs": [],
   "source": [],
   "metadata": {
    "collapsed": false
   },
   "id": "92c9fdcbd2e9765c"
  }
 ],
 "metadata": {
  "kernelspec": {
   "display_name": "Python 3",
   "language": "python",
   "name": "python3"
  },
  "language_info": {
   "codemirror_mode": {
    "name": "ipython",
    "version": 2
   },
   "file_extension": ".py",
   "mimetype": "text/x-python",
   "name": "python",
   "nbconvert_exporter": "python",
   "pygments_lexer": "ipython2",
   "version": "2.7.6"
  }
 },
 "nbformat": 4,
 "nbformat_minor": 5
}
