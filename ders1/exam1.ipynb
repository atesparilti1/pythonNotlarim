{
 "cells": [
  {
   "cell_type": "code",
   "execution_count": 7,
   "id": "initial_id",
   "metadata": {
    "collapsed": true,
    "ExecuteTime": {
     "end_time": "2023-11-05T13:55:44.081911200Z",
     "start_time": "2023-11-05T13:55:44.072953900Z"
    }
   },
   "outputs": [
    {
     "data": {
      "text/plain": "'s'"
     },
     "execution_count": 7,
     "metadata": {},
     "output_type": "execute_result"
    }
   ],
   "source": [
    "# 1) Aşağıdaki String'in 5. harfini my_letter isimli bir değişkene atayınız.\n",
    "my_string = \"James Hetfield\"\n",
    "my_letter= my_string[4]\n",
    "my_letter"
   ]
  },
  {
   "cell_type": "code",
   "execution_count": 10,
   "outputs": [
    {
     "data": {
      "text/plain": "'tinTa'"
     },
     "execution_count": 10,
     "metadata": {},
     "output_type": "execute_result"
    }
   ],
   "source": [
    "# Aşağıdaki String'in 5. ve 8. karakteri arasındaki tüm harflerini yazdırınız (5 ve 8 dahil)\n",
    "my_new_string = \"QuentinTarantino\"\n",
    "my_a=my_new_string[4:9]\n",
    "my_a"
   ],
   "metadata": {
    "collapsed": false,
    "ExecuteTime": {
     "end_time": "2023-11-05T13:56:46.879972100Z",
     "start_time": "2023-11-05T13:56:46.872245600Z"
    }
   },
   "id": "7cc33019c55e840f"
  },
  {
   "cell_type": "code",
   "execution_count": 12,
   "outputs": [
    {
     "data": {
      "text/plain": "'zınısımnadzımıralkıdamarıtşalılrasiharaknoyfA'"
     },
     "execution_count": 12,
     "metadata": {},
     "output_type": "execute_result"
    }
   ],
   "source": [
    "# Aşağıdaki String'i kod ile tersten yazın\n",
    "my_last_string = \"Afyonkarahisarlılaştıramadıklarımızdanmısınız\"\n",
    "a=my_last_string[::-1]\n",
    "a"
   ],
   "metadata": {
    "collapsed": false,
    "ExecuteTime": {
     "end_time": "2023-11-05T13:59:06.206096100Z",
     "start_time": "2023-11-05T13:59:06.196160800Z"
    }
   },
   "id": "c4985866bfca5c6"
  },
  {
   "cell_type": "code",
   "execution_count": 21,
   "outputs": [
    {
     "data": {
      "text/plain": "float"
     },
     "execution_count": 21,
     "metadata": {},
     "output_type": "execute_result"
    }
   ],
   "source": [
    "# 1) Aşağıdaki işlemin sonucu hangi veri tipinde olacaktır?\n",
    "b=3 + 10.2 + 50\n",
    "\n",
    "type(b)"
   ],
   "metadata": {
    "collapsed": false,
    "ExecuteTime": {
     "end_time": "2023-11-05T14:01:55.362170Z",
     "start_time": "2023-11-05T14:01:55.353208500Z"
    }
   },
   "id": "dc091891f176a734"
  },
  {
   "cell_type": "code",
   "execution_count": 14,
   "outputs": [
    {
     "data": {
      "text/plain": "101"
     },
     "execution_count": 14,
     "metadata": {},
     "output_type": "execute_result"
    }
   ],
   "source": [
    "# 2) Aşağıdaki işlemin sonucu kaçtır?\n",
    "5 + 8 * 12\n",
    "\n"
   ],
   "metadata": {
    "collapsed": false,
    "ExecuteTime": {
     "end_time": "2023-11-05T13:59:35.296769200Z",
     "start_time": "2023-11-05T13:59:35.285561800Z"
    }
   },
   "id": "42e53d90905d7018"
  },
  {
   "cell_type": "code",
   "execution_count": 31,
   "outputs": [
    {
     "data": {
      "text/plain": "[1, 2, 'a']"
     },
     "execution_count": 31,
     "metadata": {},
     "output_type": "execute_result"
    }
   ],
   "source": [
    "# 1) Bu listeyi 3 farklı yoldan oluşturunuz: [1,2,\"a\"]\n",
    "list1= list()\n",
    "list1.append(1)\n",
    "list1.append(2)\n",
    "list1.append(\"a\")\n",
    "\n",
    "list2=[1,2,\"a\"]\n",
    "\n",
    "list3=[\"a\",2,1]\n",
    "list3.reverse()\n",
    "list3"
   ],
   "metadata": {
    "collapsed": false,
    "ExecuteTime": {
     "end_time": "2023-11-05T14:07:52.107563700Z",
     "start_time": "2023-11-05T14:07:52.099619400Z"
    }
   },
   "id": "e7905f71487eea9e"
  },
  {
   "cell_type": "code",
   "execution_count": 32,
   "outputs": [
    {
     "data": {
      "text/plain": "'a'"
     },
     "execution_count": 32,
     "metadata": {},
     "output_type": "execute_result"
    }
   ],
   "source": [
    "# 2) Aşağıdaki \"a\"'yı tek satırda alınız:\n",
    "my_list = [1,4,[2,3,\"a\"]]\n",
    "my_list[2][2]"
   ],
   "metadata": {
    "collapsed": false,
    "ExecuteTime": {
     "end_time": "2023-11-05T14:08:49.497262Z",
     "start_time": "2023-11-05T14:08:49.488843800Z"
    }
   },
   "id": "b2c2ade686b9590e"
  },
  {
   "cell_type": "code",
   "execution_count": 38,
   "outputs": [
    {
     "data": {
      "text/plain": "'b'"
     },
     "execution_count": 38,
     "metadata": {},
     "output_type": "execute_result"
    }
   ],
   "source": [
    "# 3) Aşağıdaki \"b\"'yi tek satırda alınız:\n",
    "my_dictionary = {\"k1\":2, \"kk\":[4,{\"kkkk\":\"b\"}]}\n",
    "my_dictionary[\"kk\"][1][\"kkkk\"]"
   ],
   "metadata": {
    "collapsed": false,
    "ExecuteTime": {
     "end_time": "2023-11-05T14:11:25.038658Z",
     "start_time": "2023-11-05T14:11:25.030542300Z"
    }
   },
   "id": "bcf56ef0b2095b93"
  },
  {
   "cell_type": "code",
   "execution_count": 39,
   "outputs": [
    {
     "data": {
      "text/plain": "{11, 12, 21, 22, 32, 33, 45}"
     },
     "execution_count": 39,
     "metadata": {},
     "output_type": "execute_result"
    }
   ],
   "source": [
    "# 4) Aşağıdaki liste set'e çevirilince hangi değerler içinde kalacaktır?\n",
    "my_list_to_be_set = [11,12,22,33,11,22,45,32,21,22,33,45]\n",
    "my_list_to_be_set=set(my_list_to_be_set)\n",
    "my_list_to_be_set"
   ],
   "metadata": {
    "collapsed": false,
    "ExecuteTime": {
     "end_time": "2023-11-05T14:13:21.471983100Z",
     "start_time": "2023-11-05T14:13:21.462738Z"
    }
   },
   "id": "f183d03d06f6e67a"
  },
  {
   "cell_type": "code",
   "execution_count": 19,
   "outputs": [
    {
     "data": {
      "text/plain": "True"
     },
     "execution_count": 19,
     "metadata": {},
     "output_type": "execute_result"
    }
   ],
   "source": [
    "# 1) Aşağıdaki ifadenin sonucu ne olacaktır?\n",
    "x = 40 * 5 + 3\n",
    "y = 208 - 2 * 4\n",
    "x > y\n"
   ],
   "metadata": {
    "collapsed": false,
    "ExecuteTime": {
     "end_time": "2023-11-05T14:00:07.467370500Z",
     "start_time": "2023-11-05T14:00:07.454664100Z"
    }
   },
   "id": "d611d12dc44f371a"
  },
  {
   "cell_type": "code",
   "execution_count": 20,
   "outputs": [
    {
     "data": {
      "text/plain": "False"
     },
     "execution_count": 20,
     "metadata": {},
     "output_type": "execute_result"
    }
   ],
   "source": [
    "# 2) Aşağıdaki ifadenin sonucu ne olacaktır?\n",
    "a = 40 * (4 - 2)\n",
    "b = 80 - 2 * -5\n",
    "a > b\n"
   ],
   "metadata": {
    "collapsed": false,
    "ExecuteTime": {
     "end_time": "2023-11-05T14:00:16.453682100Z",
     "start_time": "2023-11-05T14:00:16.447663500Z"
    }
   },
   "id": "8be9ee411ec8254c"
  },
  {
   "cell_type": "code",
   "execution_count": null,
   "outputs": [],
   "source": [],
   "metadata": {
    "collapsed": false
   },
   "id": "1b28432ff494926c"
  }
 ],
 "metadata": {
  "kernelspec": {
   "display_name": "Python 3",
   "language": "python",
   "name": "python3"
  },
  "language_info": {
   "codemirror_mode": {
    "name": "ipython",
    "version": 2
   },
   "file_extension": ".py",
   "mimetype": "text/x-python",
   "name": "python",
   "nbconvert_exporter": "python",
   "pygments_lexer": "ipython2",
   "version": "2.7.6"
  }
 },
 "nbformat": 4,
 "nbformat_minor": 5
}
