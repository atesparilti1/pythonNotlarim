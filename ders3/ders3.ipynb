{
 "cells": [
  {
   "cell_type": "code",
   "execution_count": 1,
   "id": "initial_id",
   "metadata": {
    "collapsed": true,
    "ExecuteTime": {
     "end_time": "2023-11-15T12:48:58.787019400Z",
     "start_time": "2023-11-15T12:48:58.780908200Z"
    }
   },
   "outputs": [
    {
     "name": "stdout",
     "output_type": "stream",
     "text": [
      "Help on built-in function split:\n",
      "\n",
      "split(sep=None, maxsplit=-1) method of builtins.str instance\n",
      "    Return a list of the substrings in the string, using sep as the separator string.\n",
      "\n",
      "      sep\n",
      "        The separator used to split the string.\n",
      "\n",
      "        When set to None (the default value), will split on any whitespace\n",
      "        character (including \\n \\r \\t \\f and spaces) and will discard\n",
      "        empty strings from the result.\n",
      "      maxsplit\n",
      "        Maximum number of splits (starting from the left).\n",
      "        -1 (the default value) means no limit.\n",
      "\n",
      "    Note, str.split() is mainly useful for data that has been intentionally\n",
      "    delimited.  With natural text that includes punctuation, consider using\n",
      "    the regular expression module.\n"
     ]
    }
   ],
   "source": [
    "mystring = \"Ateş\"\n",
    "mystringupper = mystring.upper()\n",
    "help(mystring.split)"
   ]
  },
  {
   "cell_type": "code",
   "execution_count": 2,
   "outputs": [
    {
     "name": "stdout",
     "output_type": "stream",
     "text": [
      "hello\n",
      "world\n"
     ]
    }
   ],
   "source": [
    "def hello_world():\n",
    "    print(\"hello\")\n",
    "    print(\"world\")\n",
    "\n",
    "\n",
    "hello_world()"
   ],
   "metadata": {
    "collapsed": false,
    "ExecuteTime": {
     "end_time": "2023-11-15T12:50:48.080528600Z",
     "start_time": "2023-11-15T12:50:48.064006600Z"
    }
   },
   "id": "bc4bdca03ae28002"
  },
  {
   "cell_type": "code",
   "execution_count": 7,
   "outputs": [
    {
     "name": "stdout",
     "output_type": "stream",
     "text": [
      "hello\n",
      "3\n"
     ]
    }
   ],
   "source": [
    "\n",
    "def hello_programming(name):\n",
    "    print(\"hello\")\n",
    "    print(name)\n",
    "\n",
    "\n",
    "hello_programming(3)"
   ],
   "metadata": {
    "collapsed": false,
    "ExecuteTime": {
     "end_time": "2023-11-15T12:53:09.457296800Z",
     "start_time": "2023-11-15T12:53:09.448288700Z"
    }
   },
   "id": "8c5d418062597c37"
  },
  {
   "cell_type": "code",
   "execution_count": 10,
   "outputs": [
    {
     "name": "stdout",
     "output_type": "stream",
     "text": [
      "Hello\n",
      "java\n"
     ]
    }
   ],
   "source": [
    "def a(name=\"Python\"):\n",
    "    print(\"Hello\")\n",
    "    print(name)\n",
    "\n",
    "\n",
    "a(\"java\")"
   ],
   "metadata": {
    "collapsed": false,
    "ExecuteTime": {
     "end_time": "2023-11-15T12:55:49.383115600Z",
     "start_time": "2023-11-15T12:55:49.374603300Z"
    }
   },
   "id": "9a1301468e130a14"
  },
  {
   "cell_type": "code",
   "execution_count": 12,
   "outputs": [
    {
     "name": "stdout",
     "output_type": "stream",
     "text": [
      "10\n"
     ]
    }
   ],
   "source": [
    "def summ(number1, number2):\n",
    "    number3 = number1 + number2\n",
    "    print(number3)\n",
    "\n",
    "\n",
    "summ(4, 6)"
   ],
   "metadata": {
    "collapsed": false,
    "ExecuteTime": {
     "end_time": "2023-11-15T12:57:21.595596100Z",
     "start_time": "2023-11-15T12:57:21.587082900Z"
    }
   },
   "id": "387af9976382e2d1"
  },
  {
   "cell_type": "code",
   "execution_count": 13,
   "outputs": [
    {
     "data": {
      "text/plain": "222"
     },
     "execution_count": 13,
     "metadata": {},
     "output_type": "execute_result"
    }
   ],
   "source": [
    "def summation(num1, num2, num3):\n",
    "    return num1 + num2 + num3\n",
    "\n",
    "\n",
    "summation(34, 65, 123)"
   ],
   "metadata": {
    "collapsed": false,
    "ExecuteTime": {
     "end_time": "2023-11-15T12:57:54.323908300Z",
     "start_time": "2023-11-15T12:57:54.289371Z"
    }
   },
   "id": "d0e6965e3fb2fba7"
  },
  {
   "cell_type": "code",
   "execution_count": 15,
   "outputs": [
    {
     "name": "stdout",
     "output_type": "stream",
     "text": [
      "7\n"
     ]
    },
    {
     "data": {
      "text/plain": "NoneType"
     },
     "execution_count": 15,
     "metadata": {},
     "output_type": "execute_result"
    }
   ],
   "source": [
    "my_integer = summ(4, 3)\n",
    "type(my_integer)\n"
   ],
   "metadata": {
    "collapsed": false,
    "ExecuteTime": {
     "end_time": "2023-11-15T12:58:58.861296100Z",
     "start_time": "2023-11-15T12:58:58.850672300Z"
    }
   },
   "id": "f2817134cf2d9cf3"
  },
  {
   "cell_type": "code",
   "execution_count": 19,
   "outputs": [
    {
     "name": "stdout",
     "output_type": "stream",
     "text": [
      "mmm\n"
     ]
    },
    {
     "data": {
      "text/plain": "'Ateş'"
     },
     "execution_count": 19,
     "metadata": {},
     "output_type": "execute_result"
    }
   ],
   "source": [
    "def c_strings(s):\n",
    "    if (s[0]) == \"m\":\n",
    "        print(\"mmm\")\n",
    "\n",
    "    return s\n",
    "\n",
    "\n",
    "c_strings(\"metallica\")\n",
    "c_strings(\"Ateş\")"
   ],
   "metadata": {
    "collapsed": false,
    "ExecuteTime": {
     "end_time": "2023-11-15T13:01:55.980953Z",
     "start_time": "2023-11-15T13:01:55.972438100Z"
    }
   },
   "id": "3e7e2bd61379b0c6"
  },
  {
   "cell_type": "code",
   "execution_count": 21,
   "outputs": [
    {
     "data": {
      "text/plain": "799"
     },
     "execution_count": 21,
     "metadata": {},
     "output_type": "execute_result"
    }
   ],
   "source": [
    "def summations2(*args):\n",
    "    return sum(args)\n",
    "\n",
    "\n",
    "summations2(332, 234, 231, 2)"
   ],
   "metadata": {
    "collapsed": false,
    "ExecuteTime": {
     "end_time": "2023-11-15T13:04:07.200581500Z",
     "start_time": "2023-11-15T13:04:07.189677Z"
    }
   },
   "id": "be3f0b1a9d955274"
  },
  {
   "cell_type": "code",
   "execution_count": 22,
   "outputs": [
    {
     "name": "stdout",
     "output_type": "stream",
     "text": [
      "(19, 21)\n"
     ]
    }
   ],
   "source": [
    "def my_func(*args):\n",
    "    print(args)\n",
    "\n",
    "\n",
    "my_func(19, 21)"
   ],
   "metadata": {
    "collapsed": false,
    "ExecuteTime": {
     "end_time": "2023-11-15T13:05:06.995109400Z",
     "start_time": "2023-11-15T13:05:06.975630400Z"
    }
   },
   "id": "7706fb18677f1f80"
  },
  {
   "cell_type": "code",
   "execution_count": 23,
   "outputs": [
    {
     "name": "stdout",
     "output_type": "stream",
     "text": [
      "{'run': 100, 'swim': 200, 'basketball': 300}\n"
     ]
    }
   ],
   "source": [
    "def e_func(**kwargs):\n",
    "    print(kwargs)\n",
    "\n",
    "\n",
    "e_func(run=100, swim=200, basketball=300)"
   ],
   "metadata": {
    "collapsed": false,
    "ExecuteTime": {
     "end_time": "2023-11-15T13:06:52.976753100Z",
     "start_time": "2023-11-15T13:06:52.956734900Z"
    }
   },
   "id": "454c3e4646a44441"
  },
  {
   "cell_type": "code",
   "execution_count": 25,
   "outputs": [
    {
     "name": "stdout",
     "output_type": "stream",
     "text": [
      "Heavy Metalll!\n"
     ]
    }
   ],
   "source": [
    "def keyword_func(**kwargs):\n",
    "    if \"Metallica\" in kwargs:\n",
    "        print(\"Heavy Metalll!\")\n",
    "    else:\n",
    "        print(\"Rock is dead!!\")\n",
    "\n",
    "\n",
    "keyword_func(Metallica=10, Madonna=20, Muslum=30)"
   ],
   "metadata": {
    "collapsed": false,
    "ExecuteTime": {
     "end_time": "2023-11-15T13:09:13.315163600Z",
     "start_time": "2023-11-15T13:09:13.306150900Z"
    }
   },
   "id": "7cc6619ce614e060"
  },
  {
   "cell_type": "code",
   "execution_count": 26,
   "outputs": [
    {
     "name": "stdout",
     "output_type": "stream",
     "text": [
      "Rock is dead!!\n"
     ]
    }
   ],
   "source": [
    "keyword_func(Madonna=20, Muslum=30)"
   ],
   "metadata": {
    "collapsed": false,
    "ExecuteTime": {
     "end_time": "2023-11-15T13:09:30.724722500Z",
     "start_time": "2023-11-15T13:09:30.712204800Z"
    }
   },
   "id": "34700cf70cf1abda"
  },
  {
   "cell_type": "code",
   "execution_count": 29,
   "outputs": [
    {
     "data": {
      "text/plain": "6620.5"
     },
     "execution_count": 29,
     "metadata": {},
     "output_type": "execute_result"
    }
   ],
   "source": [
    "def d(number):\n",
    "    return number / 2\n",
    "\n",
    "\n",
    "d(13241)"
   ],
   "metadata": {
    "collapsed": false,
    "ExecuteTime": {
     "end_time": "2023-11-15T13:10:25.161469700Z",
     "start_time": "2023-11-15T13:10:25.151577400Z"
    }
   },
   "id": "d28656867840b26c"
  },
  {
   "cell_type": "code",
   "execution_count": 34,
   "outputs": [
    {
     "name": "stdout",
     "output_type": "stream",
     "text": [
      "[0.5, 1.0, 1.5, 2.0, 2.5, 3.0, 3.5, 4.0, 4.5]\n"
     ]
    }
   ],
   "source": [
    "my_list = [1, 2, 3, 4, 5, 6, 7, 8, 9]\n",
    "my_new_list = []\n",
    "for num in my_list:\n",
    "    my_new_list.append(d(num))\n",
    "print(my_new_list)"
   ],
   "metadata": {
    "collapsed": false,
    "ExecuteTime": {
     "end_time": "2023-11-15T13:13:22.037609Z",
     "start_time": "2023-11-15T13:13:22.029095Z"
    }
   },
   "id": "c172fb8a0276a37d"
  },
  {
   "cell_type": "code",
   "execution_count": 35,
   "outputs": [
    {
     "data": {
      "text/plain": "[0.5, 1.0, 1.5, 2.0, 2.5, 3.0, 3.5, 4.0, 4.5]"
     },
     "execution_count": 35,
     "metadata": {},
     "output_type": "execute_result"
    }
   ],
   "source": [
    "list(map(d, my_list))"
   ],
   "metadata": {
    "collapsed": false,
    "ExecuteTime": {
     "end_time": "2023-11-15T13:14:02.300524800Z",
     "start_time": "2023-11-15T13:14:02.286388400Z"
    }
   },
   "id": "c1623266950f908a"
  },
  {
   "cell_type": "code",
   "execution_count": 36,
   "outputs": [
    {
     "name": "stdout",
     "output_type": "stream",
     "text": [
      "Help on class map in module builtins:\n",
      "\n",
      "class map(object)\n",
      " |  map(func, *iterables) --> map object\n",
      " |\n",
      " |  Make an iterator that computes the function using arguments from\n",
      " |  each of the iterables.  Stops when the shortest iterable is exhausted.\n",
      " |\n",
      " |  Methods defined here:\n",
      " |\n",
      " |  __getattribute__(self, name, /)\n",
      " |      Return getattr(self, name).\n",
      " |\n",
      " |  __iter__(self, /)\n",
      " |      Implement iter(self).\n",
      " |\n",
      " |  __next__(self, /)\n",
      " |      Implement next(self).\n",
      " |\n",
      " |  __reduce__(...)\n",
      " |      Return state information for pickling.\n",
      " |\n",
      " |  ----------------------------------------------------------------------\n",
      " |  Static methods defined here:\n",
      " |\n",
      " |  __new__(*args, **kwargs) from builtins.type\n",
      " |      Create and return a new object.  See help(type) for accurate signature.\n"
     ]
    }
   ],
   "source": [
    "help(map)"
   ],
   "metadata": {
    "collapsed": false,
    "ExecuteTime": {
     "end_time": "2023-11-15T13:14:31.815395600Z",
     "start_time": "2023-11-15T13:14:31.800877300Z"
    }
   },
   "id": "eaa8742bf55e4ba2"
  },
  {
   "cell_type": "code",
   "execution_count": 39,
   "outputs": [
    {
     "data": {
      "text/plain": "True"
     },
     "execution_count": 39,
     "metadata": {},
     "output_type": "execute_result"
    }
   ],
   "source": [
    "def control_string(string):\n",
    "    return \"Metallica\" in string\n",
    "\n",
    "\n",
    "control_string(\"soosgokgsogMetallicaaokfak\")"
   ],
   "metadata": {
    "collapsed": false,
    "ExecuteTime": {
     "end_time": "2023-11-15T13:17:54.915829Z",
     "start_time": "2023-11-15T13:17:54.906067800Z"
    }
   },
   "id": "ba5a95aeb6224518"
  },
  {
   "cell_type": "code",
   "execution_count": 41,
   "outputs": [
    {
     "data": {
      "text/plain": "[False, False, False, False, False, False, False, True]"
     },
     "execution_count": 41,
     "metadata": {},
     "output_type": "execute_result"
    }
   ],
   "source": [
    "my_a_list = [\"a\", \"b\", \"c\", \"d\", \"e\", \"f\", \"g\", \"Metallica\"]\n",
    "list(map(control_string, my_a_list))"
   ],
   "metadata": {
    "collapsed": false,
    "ExecuteTime": {
     "end_time": "2023-11-15T13:19:14.138024300Z",
     "start_time": "2023-11-15T13:19:14.128757100Z"
    }
   },
   "id": "ef32a828ade8605a"
  },
  {
   "cell_type": "code",
   "execution_count": 42,
   "outputs": [
    {
     "data": {
      "text/plain": "['Metallica']"
     },
     "execution_count": 42,
     "metadata": {},
     "output_type": "execute_result"
    }
   ],
   "source": [
    "list(filter(control_string, my_a_list))"
   ],
   "metadata": {
    "collapsed": false,
    "ExecuteTime": {
     "end_time": "2023-11-15T13:20:00.577689100Z",
     "start_time": "2023-11-15T13:20:00.558676300Z"
    }
   },
   "id": "5e95f1da0ac8c016"
  },
  {
   "cell_type": "code",
   "execution_count": 44,
   "outputs": [
    {
     "data": {
      "text/plain": "24"
     },
     "execution_count": 44,
     "metadata": {},
     "output_type": "execute_result"
    }
   ],
   "source": [
    "m = lambda number: number * 3\n",
    "m(5)\n",
    "m(8)"
   ],
   "metadata": {
    "collapsed": false,
    "ExecuteTime": {
     "end_time": "2023-11-15T13:20:50.182055300Z",
     "start_time": "2023-11-15T13:20:50.169176700Z"
    }
   },
   "id": "624aff521f04f3a7"
  },
  {
   "cell_type": "code",
   "execution_count": 46,
   "outputs": [
    {
     "data": {
      "text/plain": "24"
     },
     "execution_count": 46,
     "metadata": {},
     "output_type": "execute_result"
    }
   ],
   "source": [
    "sum2 = lambda number1, number2: number1 + number2\n",
    "sum2(12, 12)"
   ],
   "metadata": {
    "collapsed": false,
    "ExecuteTime": {
     "end_time": "2023-11-15T13:22:39.543864200Z",
     "start_time": "2023-11-15T13:22:39.531345700Z"
    }
   },
   "id": "a0001d6cef469c8b"
  },
  {
   "cell_type": "code",
   "execution_count": 47,
   "outputs": [
    {
     "data": {
      "text/plain": "6"
     },
     "execution_count": 47,
     "metadata": {},
     "output_type": "execute_result"
    }
   ],
   "source": [
    "sum3 = lambda *args: sum(args)\n",
    "sum3(1, 2, 3)"
   ],
   "metadata": {
    "collapsed": false,
    "ExecuteTime": {
     "end_time": "2023-11-15T13:23:44.695364800Z",
     "start_time": "2023-11-15T13:23:44.674006600Z"
    }
   },
   "id": "2f040f177dcc6c46"
  },
  {
   "cell_type": "code",
   "execution_count": 49,
   "outputs": [
    {
     "data": {
      "text/plain": "[22, 24, 26, 28]"
     },
     "execution_count": 49,
     "metadata": {},
     "output_type": "execute_result"
    }
   ],
   "source": [
    "my_l3 = [11, 12, 13, 14]\n",
    "list(map(lambda num2: num2 * 2, my_l3))"
   ],
   "metadata": {
    "collapsed": false,
    "ExecuteTime": {
     "end_time": "2023-11-15T13:25:55.490340700Z",
     "start_time": "2023-11-15T13:25:55.480506900Z"
    }
   },
   "id": "6fe4fa6ddab0c633"
  },
  {
   "cell_type": "code",
   "execution_count": 56,
   "outputs": [],
   "source": [
    "number = 10\n",
    "\n",
    "\n",
    "def maa(num):\n",
    "    number = 5\n",
    "    return num * number\n",
    "\n",
    "\n",
    "def maa2(num):\n",
    "    return num * number"
   ],
   "metadata": {
    "collapsed": false,
    "ExecuteTime": {
     "end_time": "2023-11-15T13:29:56.927573800Z",
     "start_time": "2023-11-15T13:29:56.924392Z"
    }
   },
   "id": "d497e5fb6aa51b7a"
  },
  {
   "cell_type": "code",
   "execution_count": 58,
   "outputs": [
    {
     "data": {
      "text/plain": "150"
     },
     "execution_count": 58,
     "metadata": {},
     "output_type": "execute_result"
    }
   ],
   "source": [
    "maa(30)"
   ],
   "metadata": {
    "collapsed": false,
    "ExecuteTime": {
     "end_time": "2023-11-15T13:30:11.560511800Z",
     "start_time": "2023-11-15T13:30:11.549177300Z"
    }
   },
   "id": "541eeb7620367820"
  },
  {
   "cell_type": "code",
   "execution_count": 59,
   "outputs": [
    {
     "data": {
      "text/plain": "300"
     },
     "execution_count": 59,
     "metadata": {},
     "output_type": "execute_result"
    }
   ],
   "source": [
    "maa2(30)"
   ],
   "metadata": {
    "collapsed": false,
    "ExecuteTime": {
     "end_time": "2023-11-15T13:30:13.353447Z",
     "start_time": "2023-11-15T13:30:13.349374200Z"
    }
   },
   "id": "a6bfd5ab9d447a53"
  },
  {
   "cell_type": "code",
   "execution_count": 54,
   "outputs": [
    {
     "data": {
      "text/plain": "5"
     },
     "execution_count": 54,
     "metadata": {},
     "output_type": "execute_result"
    }
   ],
   "source": [
    "a = 10\n",
    "a = 5\n",
    "a"
   ],
   "metadata": {
    "collapsed": false,
    "ExecuteTime": {
     "end_time": "2023-11-15T13:28:04.292893100Z",
     "start_time": "2023-11-15T13:28:04.282229700Z"
    }
   },
   "id": "4beeba37c89c2dad"
  },
  {
   "cell_type": "code",
   "execution_count": 65,
   "outputs": [],
   "source": [
    "my_String = \"Ateş\"  #Global\n",
    "\n",
    "\n",
    "def my_func():\n",
    "    my_String = \"James\"  #Enclosing \n",
    "\n",
    "    def my_func2():\n",
    "        my_String = \"Lars\"  #Local\n",
    "        print(my_String)\n",
    "\n",
    "    my_func2()\n",
    "    print(my_String)"
   ],
   "metadata": {
    "collapsed": false,
    "ExecuteTime": {
     "end_time": "2023-11-15T13:38:13.910867700Z",
     "start_time": "2023-11-15T13:38:13.898859200Z"
    }
   },
   "id": "c0ea344b84308dd5"
  },
  {
   "cell_type": "code",
   "execution_count": 66,
   "outputs": [
    {
     "name": "stdout",
     "output_type": "stream",
     "text": [
      "Lars\n",
      "James\n"
     ]
    }
   ],
   "source": [
    "my_func()"
   ],
   "metadata": {
    "collapsed": false,
    "ExecuteTime": {
     "end_time": "2023-11-15T13:38:15.371608Z",
     "start_time": "2023-11-15T13:38:15.368100200Z"
    }
   },
   "id": "72b2f494f0dd5351"
  },
  {
   "cell_type": "code",
   "execution_count": 67,
   "outputs": [
    {
     "data": {
      "text/plain": "'Ateş'"
     },
     "execution_count": 67,
     "metadata": {},
     "output_type": "execute_result"
    }
   ],
   "source": [
    "my_String"
   ],
   "metadata": {
    "collapsed": false,
    "ExecuteTime": {
     "end_time": "2023-11-15T13:39:58.600296300Z",
     "start_time": "2023-11-15T13:39:58.581975Z"
    }
   },
   "id": "f119c45642859cae"
  },
  {
   "cell_type": "code",
   "execution_count": 80,
   "outputs": [
    {
     "name": "stdout",
     "output_type": "stream",
     "text": [
      "7\n",
      "5\n"
     ]
    },
    {
     "data": {
      "text/plain": "5"
     },
     "execution_count": 80,
     "metadata": {},
     "output_type": "execute_result"
    }
   ],
   "source": [
    "y = 10\n",
    "\n",
    "\n",
    "def func_new(y):\n",
    "    print(y)\n",
    "    y = 5\n",
    "    print(y)\n",
    "    return (y)\n",
    "\n",
    "\n",
    "func_new(7)"
   ],
   "metadata": {
    "collapsed": false,
    "ExecuteTime": {
     "end_time": "2023-11-15T13:44:04.006814500Z",
     "start_time": "2023-11-15T13:44:03.995952200Z"
    }
   },
   "id": "96df338ad7292392"
  },
  {
   "cell_type": "code",
   "execution_count": 81,
   "outputs": [
    {
     "name": "stdout",
     "output_type": "stream",
     "text": [
      "10\n",
      "5\n"
     ]
    }
   ],
   "source": [
    "y = func_new(y)"
   ],
   "metadata": {
    "collapsed": false,
    "ExecuteTime": {
     "end_time": "2023-11-15T13:44:44.356012100Z",
     "start_time": "2023-11-15T13:44:44.332485700Z"
    }
   },
   "id": "9e047f738b2a9798"
  },
  {
   "cell_type": "code",
   "execution_count": 82,
   "outputs": [
    {
     "data": {
      "text/plain": "5"
     },
     "execution_count": 82,
     "metadata": {},
     "output_type": "execute_result"
    }
   ],
   "source": [
    "y"
   ],
   "metadata": {
    "collapsed": false,
    "ExecuteTime": {
     "end_time": "2023-11-15T13:44:49.738915Z",
     "start_time": "2023-11-15T13:44:49.717050700Z"
    }
   },
   "id": "13471e0daf46750a"
  },
  {
   "cell_type": "code",
   "execution_count": 83,
   "outputs": [],
   "source": [
    "y = 10\n",
    "\n",
    "\n",
    "def func_x():\n",
    "    global y\n",
    "    y = 5\n",
    "    print(y)"
   ],
   "metadata": {
    "collapsed": false,
    "ExecuteTime": {
     "end_time": "2023-11-15T13:45:24.423395400Z",
     "start_time": "2023-11-15T13:45:24.398868100Z"
    }
   },
   "id": "cd63984e620b4fa0"
  },
  {
   "cell_type": "code",
   "execution_count": 84,
   "outputs": [
    {
     "data": {
      "text/plain": "10"
     },
     "execution_count": 84,
     "metadata": {},
     "output_type": "execute_result"
    }
   ],
   "source": [
    "y"
   ],
   "metadata": {
    "collapsed": false,
    "ExecuteTime": {
     "end_time": "2023-11-15T13:45:29.438154700Z",
     "start_time": "2023-11-15T13:45:29.417923800Z"
    }
   },
   "id": "2543422059777a1f"
  },
  {
   "cell_type": "code",
   "execution_count": 86,
   "outputs": [
    {
     "name": "stdout",
     "output_type": "stream",
     "text": [
      "5\n"
     ]
    }
   ],
   "source": [
    "y = func_x()"
   ],
   "metadata": {
    "collapsed": false,
    "ExecuteTime": {
     "end_time": "2023-11-15T13:45:41.663632600Z",
     "start_time": "2023-11-15T13:45:41.652262500Z"
    }
   },
   "id": "16a0bb3d6013ae04"
  },
  {
   "cell_type": "code",
   "execution_count": 88,
   "outputs": [
    {
     "name": "stdout",
     "output_type": "stream",
     "text": [
      "5\n"
     ]
    }
   ],
   "source": [
    "func_x()"
   ],
   "metadata": {
    "collapsed": false,
    "ExecuteTime": {
     "end_time": "2023-11-15T13:45:56.601441300Z",
     "start_time": "2023-11-15T13:45:56.589430300Z"
    }
   },
   "id": "66ee9740701ae123"
  },
  {
   "cell_type": "code",
   "execution_count": 89,
   "outputs": [],
   "source": [
    "def func(new_func):\n",
    "    print(\"Func started\")\n",
    "    new_func()\n",
    "    print(\"Func ended\")"
   ],
   "metadata": {
    "collapsed": false,
    "ExecuteTime": {
     "end_time": "2023-11-15T14:14:42.252685400Z",
     "start_time": "2023-11-15T14:14:42.227659100Z"
    }
   },
   "id": "9ed1aba286107383"
  },
  {
   "cell_type": "code",
   "execution_count": 90,
   "outputs": [],
   "source": [
    "def hello_func():\n",
    "    print(\"Hello world\")\n",
    "\n"
   ],
   "metadata": {
    "collapsed": false,
    "ExecuteTime": {
     "end_time": "2023-11-15T14:15:09.061380500Z",
     "start_time": "2023-11-15T14:15:09.038366100Z"
    }
   },
   "id": "4b2bc3d9b353a0d"
  },
  {
   "cell_type": "code",
   "execution_count": 92,
   "outputs": [
    {
     "name": "stdout",
     "output_type": "stream",
     "text": [
      "Func started\n",
      "Hello world\n",
      "Func ended\n"
     ]
    }
   ],
   "source": [
    "func(hello_func)"
   ],
   "metadata": {
    "collapsed": false,
    "ExecuteTime": {
     "end_time": "2023-11-15T14:15:23.973307200Z",
     "start_time": "2023-11-15T14:15:23.963256100Z"
    }
   },
   "id": "6dfacbe79263755e"
  },
  {
   "cell_type": "code",
   "execution_count": 100,
   "outputs": [],
   "source": [
    "def newfunc():\n",
    "    print(\"new func\")\n",
    "\n",
    "    def newfunc2():\n",
    "        print(\"newfunc2\")\n",
    "\n",
    "    return newfunc2"
   ],
   "metadata": {
    "collapsed": false,
    "ExecuteTime": {
     "end_time": "2023-11-15T14:17:25.803651Z",
     "start_time": "2023-11-15T14:17:25.793987100Z"
    }
   },
   "id": "a483659ff617ab40"
  },
  {
   "cell_type": "code",
   "execution_count": 101,
   "outputs": [
    {
     "name": "stdout",
     "output_type": "stream",
     "text": [
      "new func\n"
     ]
    },
    {
     "data": {
      "text/plain": "<function __main__.newfunc.<locals>.newfunc2()>"
     },
     "execution_count": 101,
     "metadata": {},
     "output_type": "execute_result"
    }
   ],
   "source": [
    "newfunc()\n"
   ],
   "metadata": {
    "collapsed": false,
    "ExecuteTime": {
     "end_time": "2023-11-15T14:17:27.417141600Z",
     "start_time": "2023-11-15T14:17:27.413137800Z"
    }
   },
   "id": "e5e220deafcb93f6"
  },
  {
   "cell_type": "code",
   "execution_count": 102,
   "outputs": [
    {
     "name": "stdout",
     "output_type": "stream",
     "text": [
      "new func\n"
     ]
    }
   ],
   "source": [
    "newstring = newfunc()"
   ],
   "metadata": {
    "collapsed": false,
    "ExecuteTime": {
     "end_time": "2023-11-15T14:17:33.331154100Z",
     "start_time": "2023-11-15T14:17:33.307120400Z"
    }
   },
   "id": "58933c860db6a0a8"
  },
  {
   "cell_type": "code",
   "execution_count": 103,
   "outputs": [
    {
     "name": "stdout",
     "output_type": "stream",
     "text": [
      "newfunc2\n"
     ]
    }
   ],
   "source": [
    "newstring()"
   ],
   "metadata": {
    "collapsed": false,
    "ExecuteTime": {
     "end_time": "2023-11-15T14:17:54.170051300Z",
     "start_time": "2023-11-15T14:17:54.147031900Z"
    }
   },
   "id": "30410d5759488a14"
  },
  {
   "cell_type": "code",
   "execution_count": 104,
   "outputs": [],
   "source": [
    "def decorator_f(func):\n",
    "    def wrapper_f():\n",
    "        print(\"Wrapper started\")\n",
    "        func()\n",
    "        print(\"wrapper stopped\")\n",
    "    return wrapper_f"
   ],
   "metadata": {
    "collapsed": false,
    "ExecuteTime": {
     "end_time": "2023-11-15T14:20:47.738264200Z",
     "start_time": "2023-11-15T14:20:47.714734Z"
    }
   },
   "id": "e9b5af3203f340d6"
  },
  {
   "cell_type": "code",
   "execution_count": 105,
   "outputs": [],
   "source": [
    "def func_new():\n",
    "    print(\"Hello world\")"
   ],
   "metadata": {
    "collapsed": false,
    "ExecuteTime": {
     "end_time": "2023-11-15T14:21:21.237765800Z",
     "start_time": "2023-11-15T14:21:21.209231800Z"
    }
   },
   "id": "cd1c5b2f713eb571"
  },
  {
   "cell_type": "code",
   "execution_count": 107,
   "outputs": [
    {
     "name": "stdout",
     "output_type": "stream",
     "text": [
      "Wrapper started\n",
      "Hello world\n",
      "wrapper stopped\n"
     ]
    }
   ],
   "source": [
    "example_function=decorator_f(func_new)\n",
    "example_function()"
   ],
   "metadata": {
    "collapsed": false,
    "ExecuteTime": {
     "end_time": "2023-11-15T14:22:01.357461600Z",
     "start_time": "2023-11-15T14:22:01.348454900Z"
    }
   },
   "id": "ce91bb946a28641d"
  },
  {
   "cell_type": "code",
   "execution_count": 108,
   "outputs": [],
   "source": [
    "@decorator_f\n",
    "def func_new():\n",
    "    print(\"Hello world\")\n",
    "    "
   ],
   "metadata": {
    "collapsed": false,
    "ExecuteTime": {
     "end_time": "2023-11-15T14:22:50.756294700Z",
     "start_time": "2023-11-15T14:22:50.732277400Z"
    }
   },
   "id": "e579bab88ee951b0"
  },
  {
   "cell_type": "code",
   "execution_count": 109,
   "outputs": [
    {
     "name": "stdout",
     "output_type": "stream",
     "text": [
      "Wrapper started\n",
      "Hello world\n",
      "wrapper stopped\n"
     ]
    }
   ],
   "source": [
    "func_new()"
   ],
   "metadata": {
    "collapsed": false,
    "ExecuteTime": {
     "end_time": "2023-11-15T14:22:55.281506500Z",
     "start_time": "2023-11-15T14:22:55.256465200Z"
    }
   },
   "id": "6a5777f65e879ab"
  },
  {
   "cell_type": "code",
   "execution_count": null,
   "outputs": [],
   "source": [],
   "metadata": {
    "collapsed": false
   },
   "id": "fa4a0d7f3681c0ec"
  }
 ],
 "metadata": {
  "kernelspec": {
   "display_name": "Python 3",
   "language": "python",
   "name": "python3"
  },
  "language_info": {
   "codemirror_mode": {
    "name": "ipython",
    "version": 2
   },
   "file_extension": ".py",
   "mimetype": "text/x-python",
   "name": "python",
   "nbconvert_exporter": "python",
   "pygments_lexer": "ipython2",
   "version": "2.7.6"
  }
 },
 "nbformat": 4,
 "nbformat_minor": 5
}
